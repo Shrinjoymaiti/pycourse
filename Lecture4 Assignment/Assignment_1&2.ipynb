{
  "nbformat": 4,
  "nbformat_minor": 0,
  "metadata": {
    "colab": {
      "name": "Assignment 1&2.ipynb",
      "provenance": []
    },
    "kernelspec": {
      "name": "python3",
      "display_name": "Python 3"
    }
  },
  "cells": [
    {
      "cell_type": "markdown",
      "metadata": {
        "id": "-WSULhizlLuH",
        "colab_type": "text"
      },
      "source": [
        "# Assignment 1\n"
      ]
    },
    {
      "cell_type": "markdown",
      "metadata": {
        "id": "2Srk3uLUlRfK",
        "colab_type": "text"
      },
      "source": [
        "Q1 Create a List of 20 depth points by taking random floating point values between 0 and 10000.\n",
        "\n",
        "Q2 Convert each float value in the depth list to integer data type.\n",
        "\n",
        "Q3 Based on the depth values, Create a dictionary, containing values for two keys \"Shallow\" and \"Deep\". Put depths less than 5000 in \"Shallow\" key ( Multiple values can be combined as tupe,set or list )\n",
        "\n",
        "Put depths greater than or equal to 5000 in \"Deep\" key\n",
        "\n",
        "Q4 Count the Values in each key ( How many depths values are in Shallow & Deep ? )"
      ]
    },
    {
      "cell_type": "code",
      "metadata": {
        "id": "9iH1q-eTew3c",
        "colab_type": "code",
        "colab": {
          "base_uri": "https://localhost:8080/",
          "height": 51
        },
        "outputId": "5f992e94-164c-4f87-b0e3-91b1c817c74b"
      },
      "source": [
        "#Creating a list pf 20 depths between 0 and 10000\n",
        "depth=[10.5, 200.7, 800, 459.7, 1020.7, 698.3, 5000.4, 6978, 999.99, 1578.78, 6381.5, 9000, 1478, 325.9, 7895.64, 8046, 2647.96,5789, 6974.87, 5010]\n",
        "print(len(depth)) #shows the length of list\n",
        "print(depth) #shows the list"
      ],
      "execution_count": 16,
      "outputs": [
        {
          "output_type": "stream",
          "text": [
            "20\n",
            "[10.5, 200.7, 800, 459.7, 1020.7, 698.3, 5000.4, 6978, 999.99, 1578.78, 6381.5, 9000, 1478, 325.9, 7895.64, 8046, 2647.96, 5789, 6974.87, 5010]\n"
          ],
          "name": "stdout"
        }
      ]
    },
    {
      "cell_type": "code",
      "metadata": {
        "id": "d1Zu6uokfh5C",
        "colab_type": "code",
        "colab": {
          "base_uri": "https://localhost:8080/",
          "height": 34
        },
        "outputId": "667a94de-e92d-45eb-ad84-384c5efb4389"
      },
      "source": [
        "#converting the float values into int type\n",
        "newdep=[]\n",
        "for i in depth: #running a for loop to access the elements of list individually\n",
        "  a=int(i) #converting individual elements into int\n",
        "  newdep.append(a) #appending the converted elements to new list\n",
        "print(newdep)"
      ],
      "execution_count": 17,
      "outputs": [
        {
          "output_type": "stream",
          "text": [
            "[10, 200, 800, 459, 1020, 698, 5000, 6978, 999, 1578, 6381, 9000, 1478, 325, 7895, 8046, 2647, 5789, 6974, 5010]\n"
          ],
          "name": "stdout"
        }
      ]
    },
    {
      "cell_type": "code",
      "metadata": {
        "id": "Q8VPxj6ngRcA",
        "colab_type": "code",
        "colab": {
          "base_uri": "https://localhost:8080/",
          "height": 34
        },
        "outputId": "0bbdf837-39a1-4367-ad49-778006409fae"
      },
      "source": [
        "#Q3\n",
        "depless=[]\n",
        "depmore=[]\n",
        "for i in newdep:\n",
        "  if i<5000: #check if elements are less than 5000\n",
        "    depless.append(i) #adding elements to new list\n",
        "  else: #elements more then or equal to 5000\n",
        "    depmore.append(i)\n",
        "depdict=dict(Shallow=depless, Deep=depmore) #converting list to dictionary with proper keys\n",
        "print(depdict)"
      ],
      "execution_count": 19,
      "outputs": [
        {
          "output_type": "stream",
          "text": [
            "{'Shallow': [10, 200, 800, 459, 1020, 698, 999, 1578, 1478, 325, 2647], 'Deep': [5000, 6978, 6381, 9000, 7895, 8046, 5789, 6974, 5010]}\n"
          ],
          "name": "stdout"
        }
      ]
    },
    {
      "cell_type": "code",
      "metadata": {
        "id": "IPDRoiwdiTZz",
        "colab_type": "code",
        "colab": {
          "base_uri": "https://localhost:8080/",
          "height": 51
        },
        "outputId": "4a2ed479-4b92-40ec-a81d-fc72da917f03"
      },
      "source": [
        "# Q4\n",
        "print(\"No. of elements in Shallow = \" + str(len(depdict['Shallow'])))\n",
        "print(\"No. of elements in Deep = \" + str(len(depdict['Deep'])))"
      ],
      "execution_count": 29,
      "outputs": [
        {
          "output_type": "stream",
          "text": [
            "No. of elements in Shallow = 11\n",
            "No. of elements in Deep = 9\n"
          ],
          "name": "stdout"
        }
      ]
    },
    {
      "cell_type": "markdown",
      "metadata": {
        "id": "r76BJBnjk7XN",
        "colab_type": "text"
      },
      "source": [
        "# Assignment 2\n"
      ]
    },
    {
      "cell_type": "markdown",
      "metadata": {
        "id": "XibPw-Nyk_WG",
        "colab_type": "text"
      },
      "source": [
        "Define a function to calculate barrels of crude oil per metric ton, given the Specific Gravity = 0.9."
      ]
    },
    {
      "cell_type": "code",
      "metadata": {
        "id": "_9sRj9-ylBdD",
        "colab_type": "code",
        "colab": {
          "base_uri": "https://localhost:8080/",
          "height": 34
        },
        "outputId": "5a48c9f7-05be-4332-b507-b012842c5aca"
      },
      "source": [
        "def crude(sg=0.9): #defining function crude and passing argument sg=0.9\n",
        "  api=(141.5/sg)-131.5 #calculating api\n",
        "  barrels=(api+131.5)/(141.5*0.159) #calculating barrels of crude oil per metric ton\n",
        "  return barrels #this returns the required value\n",
        "crude() #calling our function"
      ],
      "execution_count": 34,
      "outputs": [
        {
          "output_type": "execute_result",
          "data": {
            "text/plain": [
              "6.988120195667366"
            ]
          },
          "metadata": {
            "tags": []
          },
          "execution_count": 34
        }
      ]
    },
    {
      "cell_type": "code",
      "metadata": {
        "id": "kAxMFPpmnJEZ",
        "colab_type": "code",
        "colab": {}
      },
      "source": [
        ""
      ],
      "execution_count": null,
      "outputs": []
    }
  ]
}