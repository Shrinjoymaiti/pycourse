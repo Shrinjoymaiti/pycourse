{
  "nbformat": 4,
  "nbformat_minor": 0,
  "metadata": {
    "colab": {
      "name": "Assignment 1&2.ipynb",
      "provenance": [],
      "collapsed_sections": [],
      "authorship_tag": "ABX9TyNGVAg8hie1+gtskrQcbctb",
      "include_colab_link": true
    },
    "kernelspec": {
      "name": "python3",
      "display_name": "Python 3"
    }
  },
  "cells": [
    {
      "cell_type": "markdown",
      "metadata": {
        "id": "view-in-github",
        "colab_type": "text"
      },
      "source": [
        "<a href=\"https://colab.research.google.com/github/Shrinjoymaiti/pycourse/blob/master/Assignment_1%262new.ipynb\" target=\"_parent\"><img src=\"https://colab.research.google.com/assets/colab-badge.svg\" alt=\"Open In Colab\"/></a>"
      ]
    },
    {
      "cell_type": "markdown",
      "metadata": {
        "id": "-WSULhizlLuH",
        "colab_type": "text"
      },
      "source": [
        "# Assignment 1\n"
      ]
    },
    {
      "cell_type": "markdown",
      "metadata": {
        "id": "2Srk3uLUlRfK",
        "colab_type": "text"
      },
      "source": [
        "Q1 Create a List of 20 depth points by taking random floating point values between 0 and 10000.\n",
        "\n",
        "Q2 Convert each float value in the depth list to integer data type.\n",
        "\n",
        "Q3 Based on the depth values, Create a dictionary, containing values for two keys \"Shallow\" and \"Deep\". Put depths less than 5000 in \"Shallow\" key ( Multiple values can be combined as tupe,set or list )\n",
        "\n",
        "Put depths greater than or equal to 5000 in \"Deep\" key\n",
        "\n",
        "Q4 Count the Values in each key ( How many depths values are in Shallow & Deep ? )"
      ]
    },
    {
      "cell_type": "code",
      "metadata": {
        "id": "9iH1q-eTew3c",
        "colab_type": "code",
        "colab": {
          "base_uri": "https://localhost:8080/",
          "height": 71
        },
        "outputId": "d47d9551-e51e-4a26-f2a9-cad48156078c"
      },
      "source": [
        "#Creating a list of 20 depths between 0 and 10000\n",
        "import random\n",
        "#depth=[10.5, 200.7, 800, 459.7, 1020.7, 698.3, 5000.4, 6978, 999.99, 1578.78, 6381.5, 9000, 1478, 325.9, 7895.64, 8046, 2647.96,5789, 6974.87, 5010]\n",
        "depth=[]\n",
        "for i in range(0,20):\n",
        "  depth.append(random.uniform(0,10000))\n",
        "print(len(depth)) #shows the length of list\n",
        "print(depth) #shows the list"
      ],
      "execution_count": null,
      "outputs": [
        {
          "output_type": "stream",
          "text": [
            "20\n",
            "[4525.784845174258, 3931.727346668947, 5535.302900183655, 6889.514486884158, 8760.989146807155, 7955.50772947427, 2713.7962947249916, 1370.3424096633753, 5781.278441445456, 5628.933472309319, 2082.836659170274, 6409.280044438279, 293.745270023511, 760.7477439077726, 3277.391694013357, 52.566095513296716, 2521.7231231881665, 7125.62321882245, 271.90127866100863, 7586.628401248793]\n"
          ],
          "name": "stdout"
        }
      ]
    },
    {
      "cell_type": "code",
      "metadata": {
        "id": "d1Zu6uokfh5C",
        "colab_type": "code",
        "colab": {
          "base_uri": "https://localhost:8080/",
          "height": 34
        },
        "outputId": "6082e2c9-6e7f-4826-83b7-e42dbe0ed559"
      },
      "source": [
        "#converting the float values into int type\n",
        "newdep=[]\n",
        "for i in depth: #running a for loop to access the elements of list individually\n",
        "  a=int(i) #converting individual elements into int\n",
        "  newdep.append(a) #appending the converted elements to new list\n",
        "print(newdep)"
      ],
      "execution_count": null,
      "outputs": [
        {
          "output_type": "stream",
          "text": [
            "[4525, 3931, 5535, 6889, 8760, 7955, 2713, 1370, 5781, 5628, 2082, 6409, 293, 760, 3277, 52, 2521, 7125, 271, 7586]\n"
          ],
          "name": "stdout"
        }
      ]
    },
    {
      "cell_type": "code",
      "metadata": {
        "id": "Q8VPxj6ngRcA",
        "colab_type": "code",
        "colab": {
          "base_uri": "https://localhost:8080/",
          "height": 34
        },
        "outputId": "94c784e8-d883-4eae-898c-6e7f92928393"
      },
      "source": [
        "#Q3\n",
        "depless=[]\n",
        "depmore=[]\n",
        "for i in newdep:\n",
        "  if i<5000: #check if elements are less than 5000\n",
        "    depless.append(i) #adding elements to new list\n",
        "  else: #elements more then or equal to 5000\n",
        "    depmore.append(i)\n",
        "depdict=dict(Shallow=depless, Deep=depmore) #converting list to dictionary with proper keys\n",
        "print(depdict)"
      ],
      "execution_count": null,
      "outputs": [
        {
          "output_type": "stream",
          "text": [
            "{'Shallow': [4525, 3931, 2713, 1370, 2082, 293, 760, 3277, 52, 2521, 271], 'Deep': [5535, 6889, 8760, 7955, 5781, 5628, 6409, 7125, 7586]}\n"
          ],
          "name": "stdout"
        }
      ]
    },
    {
      "cell_type": "code",
      "metadata": {
        "id": "IPDRoiwdiTZz",
        "colab_type": "code",
        "colab": {
          "base_uri": "https://localhost:8080/",
          "height": 51
        },
        "outputId": "26f81dc2-6416-4c8f-82ef-78e28f4db2ff"
      },
      "source": [
        "# Q4\n",
        "print(\"No. of elements in Shallow = \" + str(len(depdict['Shallow'])))\n",
        "print(\"No. of elements in Deep = \" + str(len(depdict['Deep'])))"
      ],
      "execution_count": null,
      "outputs": [
        {
          "output_type": "stream",
          "text": [
            "No. of elements in Shallow = 11\n",
            "No. of elements in Deep = 9\n"
          ],
          "name": "stdout"
        }
      ]
    },
    {
      "cell_type": "markdown",
      "metadata": {
        "id": "r76BJBnjk7XN",
        "colab_type": "text"
      },
      "source": [
        "# Assignment 2\n"
      ]
    },
    {
      "cell_type": "markdown",
      "metadata": {
        "id": "XibPw-Nyk_WG",
        "colab_type": "text"
      },
      "source": [
        "Define a function to calculate barrels of crude oil per metric ton, given the Specific Gravity = 0.9."
      ]
    },
    {
      "cell_type": "code",
      "metadata": {
        "id": "_9sRj9-ylBdD",
        "colab_type": "code",
        "colab": {
          "base_uri": "https://localhost:8080/",
          "height": 34
        },
        "outputId": "5a48c9f7-05be-4332-b507-b012842c5aca"
      },
      "source": [
        "def crude(sg=0.9): #defining function crude and passing argument sg=0.9\n",
        "  api=(141.5/sg)-131.5 #calculating api\n",
        "  barrels=(api+131.5)/(141.5*0.159) #calculating barrels of crude oil per metric ton\n",
        "  return barrels #this returns the required value\n",
        "crude() #calling our function"
      ],
      "execution_count": null,
      "outputs": [
        {
          "output_type": "execute_result",
          "data": {
            "text/plain": [
              "6.988120195667366"
            ]
          },
          "metadata": {
            "tags": []
          },
          "execution_count": 34
        }
      ]
    },
    {
      "cell_type": "code",
      "metadata": {
        "id": "kAxMFPpmnJEZ",
        "colab_type": "code",
        "colab": {}
      },
      "source": [
        ""
      ],
      "execution_count": null,
      "outputs": []
    }
  ]
}