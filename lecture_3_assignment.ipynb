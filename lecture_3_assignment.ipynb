{
  "nbformat": 4,
  "nbformat_minor": 0,
  "metadata": {
    "colab": {
      "name": "lecture_3_assignment.ipynb",
      "provenance": [],
      "authorship_tag": "ABX9TyOLf6Jhy6e0tFdhXpXf9KGd",
      "include_colab_link": true
    },
    "kernelspec": {
      "name": "python3",
      "display_name": "Python 3"
    }
  },
  "cells": [
    {
      "cell_type": "markdown",
      "metadata": {
        "id": "view-in-github",
        "colab_type": "text"
      },
      "source": [
        "<a href=\"https://colab.research.google.com/github/Shrinjoymaiti/pycourse/blob/master/lecture_3_assignment.ipynb\" target=\"_parent\"><img src=\"https://colab.research.google.com/assets/colab-badge.svg\" alt=\"Open In Colab\"/></a>"
      ]
    },
    {
      "cell_type": "markdown",
      "metadata": {
        "id": "B3dRhNRbD0l-",
        "colab_type": "text"
      },
      "source": [
        "#E1\n",
        "Create a 1D numpy array of numbers from 1 to 9 without manually typing numbers."
      ]
    },
    {
      "cell_type": "code",
      "metadata": {
        "id": "3B6_p8I5D52X",
        "colab_type": "code",
        "colab": {
          "base_uri": "https://localhost:8080/",
          "height": 34
        },
        "outputId": "98b4ba9c-2097-40a5-b1f9-cabc7db22186"
      },
      "source": [
        "import numpy as np\n",
        "arr=np.arange(10) #arange brings out integer values of 10 numbers from 0\n",
        "arr"
      ],
      "execution_count": 2,
      "outputs": [
        {
          "output_type": "execute_result",
          "data": {
            "text/plain": [
              "array([0, 1, 2, 3, 4, 5, 6, 7, 8, 9])"
            ]
          },
          "metadata": {
            "tags": []
          },
          "execution_count": 2
        }
      ]
    },
    {
      "cell_type": "markdown",
      "metadata": {
        "id": "f4JD85R_GTCf",
        "colab_type": "text"
      },
      "source": [
        "#E2\n",
        "Extract all odd numbers from the given array"
      ]
    },
    {
      "cell_type": "code",
      "metadata": {
        "id": "Omng7M0RE4W5",
        "colab_type": "code",
        "colab": {
          "base_uri": "https://localhost:8080/",
          "height": 34
        },
        "outputId": "ff427864-4eab-4658-e956-9efe22d6569d"
      },
      "source": [
        "odd=arr[arr%2==1] #any odd num when divided by 2 gives 1 as remainder\n",
        "odd"
      ],
      "execution_count": 29,
      "outputs": [
        {
          "output_type": "execute_result",
          "data": {
            "text/plain": [
              "array([1, 3, 5, 7, 9])"
            ]
          },
          "metadata": {
            "tags": []
          },
          "execution_count": 29
        }
      ]
    },
    {
      "cell_type": "markdown",
      "metadata": {
        "id": "Kv1mmulnJnHt",
        "colab_type": "text"
      },
      "source": [
        "#E3\n",
        "Replace all odd numbers in the given array with -1"
      ]
    },
    {
      "cell_type": "code",
      "metadata": {
        "id": "GV8GmFsgHCtz",
        "colab_type": "code",
        "colab": {
          "base_uri": "https://localhost:8080/",
          "height": 34
        },
        "outputId": "32c0cb18-08ea-46c6-8711-7c482634b07d"
      },
      "source": [
        "arr[arr%2==1]=-1 #Replacing odd values with -1\n",
        "arr"
      ],
      "execution_count": 30,
      "outputs": [
        {
          "output_type": "execute_result",
          "data": {
            "text/plain": [
              "array([ 0, -1,  2, -1,  4, -1,  6, -1,  8, -1])"
            ]
          },
          "metadata": {
            "tags": []
          },
          "execution_count": 30
        }
      ]
    },
    {
      "cell_type": "markdown",
      "metadata": {
        "id": "ZYA63mslLoP9",
        "colab_type": "text"
      },
      "source": [
        "# E4\n",
        "Conver the given 1D array to 2D array with two rows"
      ]
    },
    {
      "cell_type": "code",
      "metadata": {
        "id": "vppNEY7IKrjK",
        "colab_type": "code",
        "colab": {
          "base_uri": "https://localhost:8080/",
          "height": 51
        },
        "outputId": "1b6a6718-20fa-4dde-bc37-22292c36c1fb"
      },
      "source": [
        "x=np.arange(10) #Taking an array from 0 to 9\n",
        "x_reshaped=np.reshape(x,(2,5)) #(array, order )\n",
        "x_reshaped"
      ],
      "execution_count": 31,
      "outputs": [
        {
          "output_type": "execute_result",
          "data": {
            "text/plain": [
              "array([[0, 1, 2, 3, 4],\n",
              "       [5, 6, 7, 8, 9]])"
            ]
          },
          "metadata": {
            "tags": []
          },
          "execution_count": 31
        }
      ]
    },
    {
      "cell_type": "markdown",
      "metadata": {
        "id": "5qcvOqy8OGeA",
        "colab_type": "text"
      },
      "source": [
        "# E5\n",
        "Find common items in a and b"
      ]
    },
    {
      "cell_type": "code",
      "metadata": {
        "id": "xCpYDGXgMOoh",
        "colab_type": "code",
        "colab": {
          "base_uri": "https://localhost:8080/",
          "height": 34
        },
        "outputId": "1d0e4df7-44b1-4ab0-8232-688a0775e0f5"
      },
      "source": [
        "a = np.array([1,2,3,2,3,4,3,4,5,6])\n",
        "b = np.array([7,2,10,2,7,4,9,4,9,8])\n",
        "c=np.intersect1d(a,b) #this returns the common values of a and b\n",
        "c"
      ],
      "execution_count": 32,
      "outputs": [
        {
          "output_type": "execute_result",
          "data": {
            "text/plain": [
              "array([2, 4])"
            ]
          },
          "metadata": {
            "tags": []
          },
          "execution_count": 32
        }
      ]
    },
    {
      "cell_type": "markdown",
      "metadata": {
        "id": "CU5TIneiQRv0",
        "colab_type": "text"
      },
      "source": [
        "# E6\n",
        "Get items between 5 and 10 from the given array\n",
        "a = np.array([2, 6, 1, 9, 10, 3, 27])"
      ]
    },
    {
      "cell_type": "code",
      "metadata": {
        "id": "6yUjqFa-QJoU",
        "colab_type": "code",
        "colab": {
          "base_uri": "https://localhost:8080/",
          "height": 34
        },
        "outputId": "b08995ed-8d4c-4c77-e4fd-c4ee4ed11b56"
      },
      "source": [
        "a = np.array([2, 6, 1, 9, 10, 3, 27])\n",
        "a[(a>4) & (a<11)]  #checking for values between 5 and 10 \n"
      ],
      "execution_count": 52,
      "outputs": [
        {
          "output_type": "execute_result",
          "data": {
            "text/plain": [
              "array([ 6,  9, 10])"
            ]
          },
          "metadata": {
            "tags": []
          },
          "execution_count": 52
        }
      ]
    },
    {
      "cell_type": "markdown",
      "metadata": {
        "id": "SA8V2w9bVuID",
        "colab_type": "text"
      },
      "source": [
        "#E7\n",
        "a. Find the sum, max value of all the values in the given numpy array\n",
        "\n",
        "b. FInd the maximum value in each column in the given array"
      ]
    },
    {
      "cell_type": "code",
      "metadata": {
        "id": "sbCSLNFbQ4sq",
        "colab_type": "code",
        "colab": {
          "base_uri": "https://localhost:8080/",
          "height": 34
        },
        "outputId": "3a8a3389-9389-42b6-e175-d0f08e8cfbec"
      },
      "source": [
        "a = np.array([[0.45053314, 0.17296777, 0.34376245, 0.5510652],\n",
        "            [0.54627315, 0.05093587, 0.40067661, 0.55645993],\n",
        "             [0.12697628, 0.82485143, 0.26590556, 0.56917101]])\n",
        "sum=a.sum() #this calculates sum of all elements of array a\n",
        "sum"
      ],
      "execution_count": 3,
      "outputs": [
        {
          "output_type": "execute_result",
          "data": {
            "text/plain": [
              "4.8595784"
            ]
          },
          "metadata": {
            "tags": []
          },
          "execution_count": 3
        }
      ]
    },
    {
      "cell_type": "code",
      "metadata": {
        "id": "dtqwRErh_HXy",
        "colab_type": "code",
        "colab": {
          "base_uri": "https://localhost:8080/",
          "height": 34
        },
        "outputId": "e370a512-87d2-49e5-f17d-83c9986d05e2"
      },
      "source": [
        "max_val=a.max() #this finds the max value amongst the values of array a\n",
        "max_val"
      ],
      "execution_count": 4,
      "outputs": [
        {
          "output_type": "execute_result",
          "data": {
            "text/plain": [
              "0.82485143"
            ]
          },
          "metadata": {
            "tags": []
          },
          "execution_count": 4
        }
      ]
    },
    {
      "cell_type": "markdown",
      "metadata": {
        "id": "kIRCf0yw_mfB",
        "colab_type": "text"
      },
      "source": [
        "# E8\n",
        "Use a function to multiply all the value of the array by 10"
      ]
    },
    {
      "cell_type": "code",
      "metadata": {
        "id": "sAqAgdXx_ULg",
        "colab_type": "code",
        "colab": {
          "base_uri": "https://localhost:8080/",
          "height": 68
        },
        "outputId": "412b095e-28c0-456d-e257-653f224fa82c"
      },
      "source": [
        "def multiply(): #defining our function\n",
        "  a = np.array([[0.45053314, 0.17296777, 0.34376245, 0.5510652],\n",
        "            [0.54627315, 0.05093587, 0.40067661, 0.55645993],\n",
        "             [0.12697628, 0.82485143, 0.26590556, 0.56917101]])\n",
        "  m=10*a #scalar multiplication of array\n",
        "  return m #returning the desired array after multiplication\n",
        "multiply()"
      ],
      "execution_count": 6,
      "outputs": [
        {
          "output_type": "execute_result",
          "data": {
            "text/plain": [
              "array([[4.5053314, 1.7296777, 3.4376245, 5.510652 ],\n",
              "       [5.4627315, 0.5093587, 4.0067661, 5.5645993],\n",
              "       [1.2697628, 8.2485143, 2.6590556, 5.6917101]])"
            ]
          },
          "metadata": {
            "tags": []
          },
          "execution_count": 6
        }
      ]
    },
    {
      "cell_type": "markdown",
      "metadata": {
        "id": "UbQhTUv-Aj5H",
        "colab_type": "text"
      },
      "source": [
        "# E9\n",
        "Convert Depth column into index of pandas (log_data)"
      ]
    },
    {
      "cell_type": "code",
      "metadata": {
        "id": "_yoOnT_dALgc",
        "colab_type": "code",
        "colab": {
          "base_uri": "https://localhost:8080/",
          "height": 255
        },
        "outputId": "604d5d2d-51bd-45b2-dd6c-820491e11126"
      },
      "source": [
        "import pandas as pd\n",
        "url='https://raw.githubusercontent.com/Energy-AI/basic_course/master/Lecture_3/data/log_data_csv.csv?token=AQTTZ5DUK4UU75EZTVNI2QS7MDKAE' #definig url where our exists our desired file\n",
        "log_data = pd.read_csv(url) #reading csv file\n",
        "log_data.set_index('DEPTH', inplace= True) #setting depth a index\n",
        "log_data.head() #this shows first 5 rows of our dataframe"
      ],
      "execution_count": 34,
      "outputs": [
        {
          "output_type": "execute_result",
          "data": {
            "text/html": [
              "<div>\n",
              "<style scoped>\n",
              "    .dataframe tbody tr th:only-of-type {\n",
              "        vertical-align: middle;\n",
              "    }\n",
              "\n",
              "    .dataframe tbody tr th {\n",
              "        vertical-align: top;\n",
              "    }\n",
              "\n",
              "    .dataframe thead th {\n",
              "        text-align: right;\n",
              "    }\n",
              "</style>\n",
              "<table border=\"1\" class=\"dataframe\">\n",
              "  <thead>\n",
              "    <tr style=\"text-align: right;\">\n",
              "      <th></th>\n",
              "      <th>ABDCQF01</th>\n",
              "      <th>ABDCQF02</th>\n",
              "      <th>ABDCQF03</th>\n",
              "      <th>ABDCQF04</th>\n",
              "      <th>BS</th>\n",
              "      <th>CALI</th>\n",
              "      <th>DRHO</th>\n",
              "      <th>DT</th>\n",
              "      <th>DTS</th>\n",
              "      <th>GR</th>\n",
              "      <th>NBGRCFM</th>\n",
              "      <th>NPHI</th>\n",
              "      <th>PEF</th>\n",
              "      <th>RACEHM</th>\n",
              "      <th>RACELM</th>\n",
              "      <th>RD</th>\n",
              "      <th>RHOB</th>\n",
              "      <th>RM</th>\n",
              "      <th>ROP</th>\n",
              "      <th>RPCEHM</th>\n",
              "      <th>RPCELM</th>\n",
              "      <th>RT</th>\n",
              "    </tr>\n",
              "    <tr>\n",
              "      <th>DEPTH</th>\n",
              "      <th></th>\n",
              "      <th></th>\n",
              "      <th></th>\n",
              "      <th></th>\n",
              "      <th></th>\n",
              "      <th></th>\n",
              "      <th></th>\n",
              "      <th></th>\n",
              "      <th></th>\n",
              "      <th></th>\n",
              "      <th></th>\n",
              "      <th></th>\n",
              "      <th></th>\n",
              "      <th></th>\n",
              "      <th></th>\n",
              "      <th></th>\n",
              "      <th></th>\n",
              "      <th></th>\n",
              "      <th></th>\n",
              "      <th></th>\n",
              "      <th></th>\n",
              "      <th></th>\n",
              "    </tr>\n",
              "  </thead>\n",
              "  <tbody>\n",
              "    <tr>\n",
              "      <th>145.9</th>\n",
              "      <td>NaN</td>\n",
              "      <td>NaN</td>\n",
              "      <td>NaN</td>\n",
              "      <td>NaN</td>\n",
              "      <td>36.0</td>\n",
              "      <td>NaN</td>\n",
              "      <td>NaN</td>\n",
              "      <td>NaN</td>\n",
              "      <td>NaN</td>\n",
              "      <td>NaN</td>\n",
              "      <td>NaN</td>\n",
              "      <td>NaN</td>\n",
              "      <td>NaN</td>\n",
              "      <td>NaN</td>\n",
              "      <td>NaN</td>\n",
              "      <td>NaN</td>\n",
              "      <td>NaN</td>\n",
              "      <td>NaN</td>\n",
              "      <td>NaN</td>\n",
              "      <td>NaN</td>\n",
              "      <td>NaN</td>\n",
              "      <td>NaN</td>\n",
              "    </tr>\n",
              "    <tr>\n",
              "      <th>146.0</th>\n",
              "      <td>NaN</td>\n",
              "      <td>NaN</td>\n",
              "      <td>NaN</td>\n",
              "      <td>NaN</td>\n",
              "      <td>36.0</td>\n",
              "      <td>NaN</td>\n",
              "      <td>NaN</td>\n",
              "      <td>NaN</td>\n",
              "      <td>NaN</td>\n",
              "      <td>NaN</td>\n",
              "      <td>NaN</td>\n",
              "      <td>NaN</td>\n",
              "      <td>NaN</td>\n",
              "      <td>NaN</td>\n",
              "      <td>NaN</td>\n",
              "      <td>NaN</td>\n",
              "      <td>NaN</td>\n",
              "      <td>NaN</td>\n",
              "      <td>NaN</td>\n",
              "      <td>NaN</td>\n",
              "      <td>NaN</td>\n",
              "      <td>NaN</td>\n",
              "    </tr>\n",
              "    <tr>\n",
              "      <th>146.1</th>\n",
              "      <td>NaN</td>\n",
              "      <td>NaN</td>\n",
              "      <td>NaN</td>\n",
              "      <td>NaN</td>\n",
              "      <td>36.0</td>\n",
              "      <td>NaN</td>\n",
              "      <td>NaN</td>\n",
              "      <td>NaN</td>\n",
              "      <td>NaN</td>\n",
              "      <td>NaN</td>\n",
              "      <td>NaN</td>\n",
              "      <td>NaN</td>\n",
              "      <td>NaN</td>\n",
              "      <td>NaN</td>\n",
              "      <td>NaN</td>\n",
              "      <td>NaN</td>\n",
              "      <td>NaN</td>\n",
              "      <td>NaN</td>\n",
              "      <td>NaN</td>\n",
              "      <td>NaN</td>\n",
              "      <td>NaN</td>\n",
              "      <td>NaN</td>\n",
              "    </tr>\n",
              "    <tr>\n",
              "      <th>146.2</th>\n",
              "      <td>NaN</td>\n",
              "      <td>NaN</td>\n",
              "      <td>NaN</td>\n",
              "      <td>NaN</td>\n",
              "      <td>36.0</td>\n",
              "      <td>NaN</td>\n",
              "      <td>NaN</td>\n",
              "      <td>NaN</td>\n",
              "      <td>NaN</td>\n",
              "      <td>NaN</td>\n",
              "      <td>NaN</td>\n",
              "      <td>NaN</td>\n",
              "      <td>NaN</td>\n",
              "      <td>NaN</td>\n",
              "      <td>NaN</td>\n",
              "      <td>NaN</td>\n",
              "      <td>NaN</td>\n",
              "      <td>NaN</td>\n",
              "      <td>NaN</td>\n",
              "      <td>NaN</td>\n",
              "      <td>NaN</td>\n",
              "      <td>NaN</td>\n",
              "    </tr>\n",
              "    <tr>\n",
              "      <th>146.3</th>\n",
              "      <td>NaN</td>\n",
              "      <td>NaN</td>\n",
              "      <td>NaN</td>\n",
              "      <td>NaN</td>\n",
              "      <td>36.0</td>\n",
              "      <td>NaN</td>\n",
              "      <td>NaN</td>\n",
              "      <td>NaN</td>\n",
              "      <td>NaN</td>\n",
              "      <td>NaN</td>\n",
              "      <td>NaN</td>\n",
              "      <td>NaN</td>\n",
              "      <td>NaN</td>\n",
              "      <td>NaN</td>\n",
              "      <td>NaN</td>\n",
              "      <td>NaN</td>\n",
              "      <td>NaN</td>\n",
              "      <td>NaN</td>\n",
              "      <td>NaN</td>\n",
              "      <td>NaN</td>\n",
              "      <td>NaN</td>\n",
              "      <td>NaN</td>\n",
              "    </tr>\n",
              "  </tbody>\n",
              "</table>\n",
              "</div>"
            ],
            "text/plain": [
              "       ABDCQF01  ABDCQF02  ABDCQF03  ABDCQF04  ...  ROP  RPCEHM  RPCELM  RT\n",
              "DEPTH                                          ...                         \n",
              "145.9       NaN       NaN       NaN       NaN  ...  NaN     NaN     NaN NaN\n",
              "146.0       NaN       NaN       NaN       NaN  ...  NaN     NaN     NaN NaN\n",
              "146.1       NaN       NaN       NaN       NaN  ...  NaN     NaN     NaN NaN\n",
              "146.2       NaN       NaN       NaN       NaN  ...  NaN     NaN     NaN NaN\n",
              "146.3       NaN       NaN       NaN       NaN  ...  NaN     NaN     NaN NaN\n",
              "\n",
              "[5 rows x 22 columns]"
            ]
          },
          "metadata": {
            "tags": []
          },
          "execution_count": 34
        }
      ]
    },
    {
      "cell_type": "markdown",
      "metadata": {
        "id": "5OCKuK4tD7Si",
        "colab_type": "text"
      },
      "source": [
        "# E10\n",
        "Convert 'BS' column of pandas into a numpy array"
      ]
    },
    {
      "cell_type": "code",
      "metadata": {
        "id": "TmPl1y5sCpuq",
        "colab_type": "code",
        "colab": {
          "base_uri": "https://localhost:8080/",
          "height": 34
        },
        "outputId": "8532b118-3e6a-4c4a-fb56-ff20f492b6cd"
      },
      "source": [
        "bs=log_data['BS'] #assigning only BS column to bs\n",
        "arr=bs.to_numpy() #coverting the values of bs into numpy array\n",
        "arr"
      ],
      "execution_count": 12,
      "outputs": [
        {
          "output_type": "execute_result",
          "data": {
            "text/plain": [
              "array([36. , 36. , 36. , ...,  8.5,  8.5,  8.5])"
            ]
          },
          "metadata": {
            "tags": []
          },
          "execution_count": 12
        }
      ]
    },
    {
      "cell_type": "markdown",
      "metadata": {
        "id": "AYs0Ik4tEire",
        "colab_type": "text"
      },
      "source": [
        "# E11\n",
        "Find the frequency of unique values present in 'BS' column in pandas"
      ]
    },
    {
      "cell_type": "code",
      "metadata": {
        "id": "TTiroGwGEZAv",
        "colab_type": "code",
        "colab": {
          "base_uri": "https://localhost:8080/",
          "height": 204
        },
        "outputId": "0c330ef9-5063-4e97-852d-58542b5e0da1"
      },
      "source": [
        "log_data['BS'].value_counts() #this returns the frequency of each different element in BS column"
      ],
      "execution_count": 14,
      "outputs": [
        {
          "output_type": "execute_result",
          "data": {
            "text/plain": [
              "17.5000    12469\n",
              "26.0000    11289\n",
              "12.2500     4827\n",
              "8.5000      3800\n",
              "36.0000      800\n",
              "12.2283        2\n",
              "8.5217         1\n",
              "25.9508        1\n",
              "17.4696        1\n",
              "35.9421        1\n",
              "Name: BS, dtype: int64"
            ]
          },
          "metadata": {
            "tags": []
          },
          "execution_count": 14
        }
      ]
    },
    {
      "cell_type": "markdown",
      "metadata": {
        "id": "utllOpxKHC1B",
        "colab_type": "text"
      },
      "source": [
        "# E12\n",
        "Find the Number of unique values in 'BS' column in pandas"
      ]
    },
    {
      "cell_type": "code",
      "metadata": {
        "id": "_WFe9JkWGV3q",
        "colab_type": "code",
        "colab": {
          "base_uri": "https://localhost:8080/",
          "height": 34
        },
        "outputId": "9137e1bd-68e7-4871-9a12-1911790bec47"
      },
      "source": [
        "log_data['BS'].nunique()"
      ],
      "execution_count": 15,
      "outputs": [
        {
          "output_type": "execute_result",
          "data": {
            "text/plain": [
              "10"
            ]
          },
          "metadata": {
            "tags": []
          },
          "execution_count": 15
        }
      ]
    },
    {
      "cell_type": "markdown",
      "metadata": {
        "id": "mo-iIsiRHOrU",
        "colab_type": "text"
      },
      "source": [
        "# E13\n",
        "Find the minimum, 25th percentile, median, 75th percentile and maximum value of 'GR' column in pandas"
      ]
    },
    {
      "cell_type": "code",
      "metadata": {
        "id": "PK-c4LC4HMgA",
        "colab_type": "code",
        "colab": {
          "base_uri": "https://localhost:8080/",
          "height": 85
        },
        "outputId": "096ef8e8-650b-4d3d-8172-ec60512c1341"
      },
      "source": [
        "min=log_data['GR'].min() #this shows the min value of GR column\n",
        "percentile_25th=log_data['GR'].quantile(0.25) #this shows the 25th percentile of GR column\n",
        "median=log_data['GR'].median() #this shows the median of GR column\n",
        "percentile_75th=log_data['GR'].quantile(0.75) #this shows the 75th percentile of GR column\n",
        "print('Minimum= ' + str(min))\n",
        "print('25th percentile= ' + str(percentile_25th))\n",
        "print('Median= ' + str(median))\n",
        "print('75th percentile= ' + str(percentile_75th))"
      ],
      "execution_count": 18,
      "outputs": [
        {
          "output_type": "stream",
          "text": [
            "Minimum= 0.1493\n",
            "25th percentile= 29.481175\n",
            "Median= 58.005700000000004\n",
            "75th percentile= 79.2472\n"
          ],
          "name": "stdout"
        }
      ]
    },
    {
      "cell_type": "markdown",
      "metadata": {
        "id": "jRErPMBTKeQ1",
        "colab_type": "text"
      },
      "source": [
        "# E14\n",
        "Replace Bit Size of value 36 to 40 in log_data"
      ]
    },
    {
      "cell_type": "code",
      "metadata": {
        "id": "JuzD1wM-KGh0",
        "colab_type": "code",
        "colab": {
          "base_uri": "https://localhost:8080/",
          "height": 221
        },
        "outputId": "649e9cb1-9867-4ac7-9f46-0249b2784b90"
      },
      "source": [
        "log_data['BS']=log_data['BS'].replace([36],40.0) #thsi replaces all 36 to 40 in BS column\n",
        "log_data['BS']"
      ],
      "execution_count": 55,
      "outputs": [
        {
          "output_type": "execute_result",
          "data": {
            "text/plain": [
              "0        40.0\n",
              "1        40.0\n",
              "2        40.0\n",
              "3        40.0\n",
              "4        40.0\n",
              "         ... \n",
              "33186     8.5\n",
              "33187     8.5\n",
              "33188     8.5\n",
              "33189     8.5\n",
              "33190     8.5\n",
              "Name: BS, Length: 33191, dtype: float64"
            ]
          },
          "metadata": {
            "tags": []
          },
          "execution_count": 55
        }
      ]
    },
    {
      "cell_type": "markdown",
      "metadata": {
        "id": "eIRzHYqViTl5",
        "colab_type": "text"
      },
      "source": [
        "# E15\n",
        "Get the column types of the below pandas and delete the column Unnamed: 0\n",
        "\n",
        "production_data = pd.read_csv('data/prod_data.csv')"
      ]
    },
    {
      "cell_type": "code",
      "metadata": {
        "id": "Kfe2RBflLPfP",
        "colab_type": "code",
        "colab": {
          "base_uri": "https://localhost:8080/",
          "height": 609
        },
        "outputId": "6a101e45-c818-4a6c-91e9-fcbfe9c6a79a"
      },
      "source": [
        "production_data = pd.read_csv('https://raw.githubusercontent.com/Energy-AI/basic_course/master/Lecture_3/data/prod_data.csv?token=AQTTZ5DZS2D2BL63WTEOYCS7MDWR6')\n",
        "del production_data['Unnamed: 0']\n",
        "production_data"
      ],
      "execution_count": 74,
      "outputs": [
        {
          "output_type": "execute_result",
          "data": {
            "text/html": [
              "<div>\n",
              "<style scoped>\n",
              "    .dataframe tbody tr th:only-of-type {\n",
              "        vertical-align: middle;\n",
              "    }\n",
              "\n",
              "    .dataframe tbody tr th {\n",
              "        vertical-align: top;\n",
              "    }\n",
              "\n",
              "    .dataframe thead th {\n",
              "        text-align: right;\n",
              "    }\n",
              "</style>\n",
              "<table border=\"1\" class=\"dataframe\">\n",
              "  <thead>\n",
              "    <tr style=\"text-align: right;\">\n",
              "      <th></th>\n",
              "      <th>DATEPRD</th>\n",
              "      <th>AVG_DOWNHOLE_PRESSURE</th>\n",
              "      <th>AVG_DOWNHOLE_TEMPERATURE</th>\n",
              "      <th>AVG_DP_TUBING</th>\n",
              "      <th>AVG_ANNULUS_PRESS</th>\n",
              "      <th>AVG_CHOKE_SIZE_P</th>\n",
              "      <th>AVG_CHOKE_UOM</th>\n",
              "      <th>AVG_WHP_P</th>\n",
              "      <th>AVG_WHT_P</th>\n",
              "      <th>DP_CHOKE_SIZE</th>\n",
              "      <th>BORE_OIL_VOL</th>\n",
              "      <th>BORE_GAS_VOL</th>\n",
              "      <th>BORE_WAT_VOL</th>\n",
              "      <th>BORE_WI_VOL</th>\n",
              "      <th>FLOW_KIND</th>\n",
              "      <th>WELL_TYPE</th>\n",
              "    </tr>\n",
              "  </thead>\n",
              "  <tbody>\n",
              "    <tr>\n",
              "      <th>0</th>\n",
              "      <td>2014-04-07</td>\n",
              "      <td>0.00000</td>\n",
              "      <td>0.00000</td>\n",
              "      <td>0.00000</td>\n",
              "      <td>0.00000</td>\n",
              "      <td>0.000000</td>\n",
              "      <td>%</td>\n",
              "      <td>0.00000</td>\n",
              "      <td>0.00000</td>\n",
              "      <td>0.00000</td>\n",
              "      <td>0.0</td>\n",
              "      <td>0.0</td>\n",
              "      <td>0.0</td>\n",
              "      <td>NaN</td>\n",
              "      <td>production</td>\n",
              "      <td>WI</td>\n",
              "    </tr>\n",
              "    <tr>\n",
              "      <th>1</th>\n",
              "      <td>2014-04-08</td>\n",
              "      <td>NaN</td>\n",
              "      <td>NaN</td>\n",
              "      <td>NaN</td>\n",
              "      <td>0.00000</td>\n",
              "      <td>1.003059</td>\n",
              "      <td>%</td>\n",
              "      <td>0.00000</td>\n",
              "      <td>0.00000</td>\n",
              "      <td>0.00000</td>\n",
              "      <td>0.0</td>\n",
              "      <td>0.0</td>\n",
              "      <td>0.0</td>\n",
              "      <td>NaN</td>\n",
              "      <td>production</td>\n",
              "      <td>OP</td>\n",
              "    </tr>\n",
              "    <tr>\n",
              "      <th>2</th>\n",
              "      <td>2014-04-09</td>\n",
              "      <td>NaN</td>\n",
              "      <td>NaN</td>\n",
              "      <td>NaN</td>\n",
              "      <td>0.00000</td>\n",
              "      <td>0.979008</td>\n",
              "      <td>%</td>\n",
              "      <td>0.00000</td>\n",
              "      <td>0.00000</td>\n",
              "      <td>0.00000</td>\n",
              "      <td>0.0</td>\n",
              "      <td>0.0</td>\n",
              "      <td>0.0</td>\n",
              "      <td>NaN</td>\n",
              "      <td>production</td>\n",
              "      <td>OP</td>\n",
              "    </tr>\n",
              "    <tr>\n",
              "      <th>3</th>\n",
              "      <td>2014-04-10</td>\n",
              "      <td>NaN</td>\n",
              "      <td>NaN</td>\n",
              "      <td>NaN</td>\n",
              "      <td>0.00000</td>\n",
              "      <td>0.545759</td>\n",
              "      <td>%</td>\n",
              "      <td>0.00000</td>\n",
              "      <td>0.00000</td>\n",
              "      <td>0.00000</td>\n",
              "      <td>0.0</td>\n",
              "      <td>0.0</td>\n",
              "      <td>0.0</td>\n",
              "      <td>NaN</td>\n",
              "      <td>production</td>\n",
              "      <td>OP</td>\n",
              "    </tr>\n",
              "    <tr>\n",
              "      <th>4</th>\n",
              "      <td>2014-04-11</td>\n",
              "      <td>310.37614</td>\n",
              "      <td>96.87589</td>\n",
              "      <td>277.27826</td>\n",
              "      <td>0.00000</td>\n",
              "      <td>1.215987</td>\n",
              "      <td>%</td>\n",
              "      <td>33.09788</td>\n",
              "      <td>10.47992</td>\n",
              "      <td>33.07195</td>\n",
              "      <td>0.0</td>\n",
              "      <td>0.0</td>\n",
              "      <td>0.0</td>\n",
              "      <td>NaN</td>\n",
              "      <td>production</td>\n",
              "      <td>OP</td>\n",
              "    </tr>\n",
              "    <tr>\n",
              "      <th>...</th>\n",
              "      <td>...</td>\n",
              "      <td>...</td>\n",
              "      <td>...</td>\n",
              "      <td>...</td>\n",
              "      <td>...</td>\n",
              "      <td>...</td>\n",
              "      <td>...</td>\n",
              "      <td>...</td>\n",
              "      <td>...</td>\n",
              "      <td>...</td>\n",
              "      <td>...</td>\n",
              "      <td>...</td>\n",
              "      <td>...</td>\n",
              "      <td>...</td>\n",
              "      <td>...</td>\n",
              "      <td>...</td>\n",
              "    </tr>\n",
              "    <tr>\n",
              "      <th>15629</th>\n",
              "      <td>2016-09-14</td>\n",
              "      <td>NaN</td>\n",
              "      <td>NaN</td>\n",
              "      <td>NaN</td>\n",
              "      <td>0.27272</td>\n",
              "      <td>0.636088</td>\n",
              "      <td>%</td>\n",
              "      <td>0.07776</td>\n",
              "      <td>0.22879</td>\n",
              "      <td>0.01862</td>\n",
              "      <td>0.0</td>\n",
              "      <td>0.0</td>\n",
              "      <td>0.0</td>\n",
              "      <td>NaN</td>\n",
              "      <td>production</td>\n",
              "      <td>OP</td>\n",
              "    </tr>\n",
              "    <tr>\n",
              "      <th>15630</th>\n",
              "      <td>2016-09-15</td>\n",
              "      <td>NaN</td>\n",
              "      <td>NaN</td>\n",
              "      <td>NaN</td>\n",
              "      <td>0.28686</td>\n",
              "      <td>0.670794</td>\n",
              "      <td>%</td>\n",
              "      <td>0.08545</td>\n",
              "      <td>0.22914</td>\n",
              "      <td>0.00631</td>\n",
              "      <td>0.0</td>\n",
              "      <td>0.0</td>\n",
              "      <td>0.0</td>\n",
              "      <td>NaN</td>\n",
              "      <td>production</td>\n",
              "      <td>OP</td>\n",
              "    </tr>\n",
              "    <tr>\n",
              "      <th>15631</th>\n",
              "      <td>2016-09-16</td>\n",
              "      <td>NaN</td>\n",
              "      <td>NaN</td>\n",
              "      <td>NaN</td>\n",
              "      <td>0.28604</td>\n",
              "      <td>0.664393</td>\n",
              "      <td>%</td>\n",
              "      <td>0.08544</td>\n",
              "      <td>0.22896</td>\n",
              "      <td>0.01181</td>\n",
              "      <td>0.0</td>\n",
              "      <td>0.0</td>\n",
              "      <td>0.0</td>\n",
              "      <td>NaN</td>\n",
              "      <td>production</td>\n",
              "      <td>OP</td>\n",
              "    </tr>\n",
              "    <tr>\n",
              "      <th>15632</th>\n",
              "      <td>2016-09-17</td>\n",
              "      <td>NaN</td>\n",
              "      <td>NaN</td>\n",
              "      <td>NaN</td>\n",
              "      <td>0.27212</td>\n",
              "      <td>0.624660</td>\n",
              "      <td>%</td>\n",
              "      <td>0.07497</td>\n",
              "      <td>0.22846</td>\n",
              "      <td>0.02576</td>\n",
              "      <td>0.0</td>\n",
              "      <td>0.0</td>\n",
              "      <td>0.0</td>\n",
              "      <td>NaN</td>\n",
              "      <td>production</td>\n",
              "      <td>OP</td>\n",
              "    </tr>\n",
              "    <tr>\n",
              "      <th>15633</th>\n",
              "      <td>2016-09-18</td>\n",
              "      <td>NaN</td>\n",
              "      <td>NaN</td>\n",
              "      <td>NaN</td>\n",
              "      <td>NaN</td>\n",
              "      <td>NaN</td>\n",
              "      <td>NaN</td>\n",
              "      <td>NaN</td>\n",
              "      <td>NaN</td>\n",
              "      <td>0.00000</td>\n",
              "      <td>NaN</td>\n",
              "      <td>NaN</td>\n",
              "      <td>NaN</td>\n",
              "      <td>0.0</td>\n",
              "      <td>injection</td>\n",
              "      <td>WI</td>\n",
              "    </tr>\n",
              "  </tbody>\n",
              "</table>\n",
              "<p>15634 rows × 16 columns</p>\n",
              "</div>"
            ],
            "text/plain": [
              "          DATEPRD  AVG_DOWNHOLE_PRESSURE  ...   FLOW_KIND  WELL_TYPE\n",
              "0      2014-04-07                0.00000  ...  production         WI\n",
              "1      2014-04-08                    NaN  ...  production         OP\n",
              "2      2014-04-09                    NaN  ...  production         OP\n",
              "3      2014-04-10                    NaN  ...  production         OP\n",
              "4      2014-04-11              310.37614  ...  production         OP\n",
              "...           ...                    ...  ...         ...        ...\n",
              "15629  2016-09-14                    NaN  ...  production         OP\n",
              "15630  2016-09-15                    NaN  ...  production         OP\n",
              "15631  2016-09-16                    NaN  ...  production         OP\n",
              "15632  2016-09-17                    NaN  ...  production         OP\n",
              "15633  2016-09-18                    NaN  ...   injection         WI\n",
              "\n",
              "[15634 rows x 16 columns]"
            ]
          },
          "metadata": {
            "tags": []
          },
          "execution_count": 74
        }
      ]
    },
    {
      "cell_type": "markdown",
      "metadata": {
        "id": "JEOXNwqflCVp",
        "colab_type": "text"
      },
      "source": [
        "# E16\n",
        "Convert the DATEPRD column into date-time format and replace DATEPRD column as pandas index"
      ]
    },
    {
      "cell_type": "code",
      "metadata": {
        "id": "XGJF3bMpjj_t",
        "colab_type": "code",
        "colab": {
          "base_uri": "https://localhost:8080/",
          "height": 221
        },
        "outputId": "ebfdad42-7d00-45a3-9e00-47a08946aa7d"
      },
      "source": [
        "production_data['DATEPRD']=pd.to_datetime(production_data['DATEPRD']) #this converts DATEPRD which was initially dtype= object into dtype=datetime64[ns]\n",
        "production_data['DATEPRD']"
      ],
      "execution_count": 76,
      "outputs": [
        {
          "output_type": "execute_result",
          "data": {
            "text/plain": [
              "0       2014-04-07\n",
              "1       2014-04-08\n",
              "2       2014-04-09\n",
              "3       2014-04-10\n",
              "4       2014-04-11\n",
              "           ...    \n",
              "15629   2016-09-14\n",
              "15630   2016-09-15\n",
              "15631   2016-09-16\n",
              "15632   2016-09-17\n",
              "15633   2016-09-18\n",
              "Name: DATEPRD, Length: 15634, dtype: datetime64[ns]"
            ]
          },
          "metadata": {
            "tags": []
          },
          "execution_count": 76
        }
      ]
    },
    {
      "cell_type": "code",
      "metadata": {
        "id": "11rvXbQdmXvx",
        "colab_type": "code",
        "colab": {
          "base_uri": "https://localhost:8080/",
          "height": 640
        },
        "outputId": "90ac9dd4-526c-4ebb-9a95-741ba01dfac3"
      },
      "source": [
        "production_data.set_index('DATEPRD', inplace=True)\n",
        "production_data"
      ],
      "execution_count": 77,
      "outputs": [
        {
          "output_type": "execute_result",
          "data": {
            "text/html": [
              "<div>\n",
              "<style scoped>\n",
              "    .dataframe tbody tr th:only-of-type {\n",
              "        vertical-align: middle;\n",
              "    }\n",
              "\n",
              "    .dataframe tbody tr th {\n",
              "        vertical-align: top;\n",
              "    }\n",
              "\n",
              "    .dataframe thead th {\n",
              "        text-align: right;\n",
              "    }\n",
              "</style>\n",
              "<table border=\"1\" class=\"dataframe\">\n",
              "  <thead>\n",
              "    <tr style=\"text-align: right;\">\n",
              "      <th></th>\n",
              "      <th>AVG_DOWNHOLE_PRESSURE</th>\n",
              "      <th>AVG_DOWNHOLE_TEMPERATURE</th>\n",
              "      <th>AVG_DP_TUBING</th>\n",
              "      <th>AVG_ANNULUS_PRESS</th>\n",
              "      <th>AVG_CHOKE_SIZE_P</th>\n",
              "      <th>AVG_CHOKE_UOM</th>\n",
              "      <th>AVG_WHP_P</th>\n",
              "      <th>AVG_WHT_P</th>\n",
              "      <th>DP_CHOKE_SIZE</th>\n",
              "      <th>BORE_OIL_VOL</th>\n",
              "      <th>BORE_GAS_VOL</th>\n",
              "      <th>BORE_WAT_VOL</th>\n",
              "      <th>BORE_WI_VOL</th>\n",
              "      <th>FLOW_KIND</th>\n",
              "      <th>WELL_TYPE</th>\n",
              "    </tr>\n",
              "    <tr>\n",
              "      <th>DATEPRD</th>\n",
              "      <th></th>\n",
              "      <th></th>\n",
              "      <th></th>\n",
              "      <th></th>\n",
              "      <th></th>\n",
              "      <th></th>\n",
              "      <th></th>\n",
              "      <th></th>\n",
              "      <th></th>\n",
              "      <th></th>\n",
              "      <th></th>\n",
              "      <th></th>\n",
              "      <th></th>\n",
              "      <th></th>\n",
              "      <th></th>\n",
              "    </tr>\n",
              "  </thead>\n",
              "  <tbody>\n",
              "    <tr>\n",
              "      <th>2014-04-07</th>\n",
              "      <td>0.00000</td>\n",
              "      <td>0.00000</td>\n",
              "      <td>0.00000</td>\n",
              "      <td>0.00000</td>\n",
              "      <td>0.000000</td>\n",
              "      <td>%</td>\n",
              "      <td>0.00000</td>\n",
              "      <td>0.00000</td>\n",
              "      <td>0.00000</td>\n",
              "      <td>0.0</td>\n",
              "      <td>0.0</td>\n",
              "      <td>0.0</td>\n",
              "      <td>NaN</td>\n",
              "      <td>production</td>\n",
              "      <td>WI</td>\n",
              "    </tr>\n",
              "    <tr>\n",
              "      <th>2014-04-08</th>\n",
              "      <td>NaN</td>\n",
              "      <td>NaN</td>\n",
              "      <td>NaN</td>\n",
              "      <td>0.00000</td>\n",
              "      <td>1.003059</td>\n",
              "      <td>%</td>\n",
              "      <td>0.00000</td>\n",
              "      <td>0.00000</td>\n",
              "      <td>0.00000</td>\n",
              "      <td>0.0</td>\n",
              "      <td>0.0</td>\n",
              "      <td>0.0</td>\n",
              "      <td>NaN</td>\n",
              "      <td>production</td>\n",
              "      <td>OP</td>\n",
              "    </tr>\n",
              "    <tr>\n",
              "      <th>2014-04-09</th>\n",
              "      <td>NaN</td>\n",
              "      <td>NaN</td>\n",
              "      <td>NaN</td>\n",
              "      <td>0.00000</td>\n",
              "      <td>0.979008</td>\n",
              "      <td>%</td>\n",
              "      <td>0.00000</td>\n",
              "      <td>0.00000</td>\n",
              "      <td>0.00000</td>\n",
              "      <td>0.0</td>\n",
              "      <td>0.0</td>\n",
              "      <td>0.0</td>\n",
              "      <td>NaN</td>\n",
              "      <td>production</td>\n",
              "      <td>OP</td>\n",
              "    </tr>\n",
              "    <tr>\n",
              "      <th>2014-04-10</th>\n",
              "      <td>NaN</td>\n",
              "      <td>NaN</td>\n",
              "      <td>NaN</td>\n",
              "      <td>0.00000</td>\n",
              "      <td>0.545759</td>\n",
              "      <td>%</td>\n",
              "      <td>0.00000</td>\n",
              "      <td>0.00000</td>\n",
              "      <td>0.00000</td>\n",
              "      <td>0.0</td>\n",
              "      <td>0.0</td>\n",
              "      <td>0.0</td>\n",
              "      <td>NaN</td>\n",
              "      <td>production</td>\n",
              "      <td>OP</td>\n",
              "    </tr>\n",
              "    <tr>\n",
              "      <th>2014-04-11</th>\n",
              "      <td>310.37614</td>\n",
              "      <td>96.87589</td>\n",
              "      <td>277.27826</td>\n",
              "      <td>0.00000</td>\n",
              "      <td>1.215987</td>\n",
              "      <td>%</td>\n",
              "      <td>33.09788</td>\n",
              "      <td>10.47992</td>\n",
              "      <td>33.07195</td>\n",
              "      <td>0.0</td>\n",
              "      <td>0.0</td>\n",
              "      <td>0.0</td>\n",
              "      <td>NaN</td>\n",
              "      <td>production</td>\n",
              "      <td>OP</td>\n",
              "    </tr>\n",
              "    <tr>\n",
              "      <th>...</th>\n",
              "      <td>...</td>\n",
              "      <td>...</td>\n",
              "      <td>...</td>\n",
              "      <td>...</td>\n",
              "      <td>...</td>\n",
              "      <td>...</td>\n",
              "      <td>...</td>\n",
              "      <td>...</td>\n",
              "      <td>...</td>\n",
              "      <td>...</td>\n",
              "      <td>...</td>\n",
              "      <td>...</td>\n",
              "      <td>...</td>\n",
              "      <td>...</td>\n",
              "      <td>...</td>\n",
              "    </tr>\n",
              "    <tr>\n",
              "      <th>2016-09-14</th>\n",
              "      <td>NaN</td>\n",
              "      <td>NaN</td>\n",
              "      <td>NaN</td>\n",
              "      <td>0.27272</td>\n",
              "      <td>0.636088</td>\n",
              "      <td>%</td>\n",
              "      <td>0.07776</td>\n",
              "      <td>0.22879</td>\n",
              "      <td>0.01862</td>\n",
              "      <td>0.0</td>\n",
              "      <td>0.0</td>\n",
              "      <td>0.0</td>\n",
              "      <td>NaN</td>\n",
              "      <td>production</td>\n",
              "      <td>OP</td>\n",
              "    </tr>\n",
              "    <tr>\n",
              "      <th>2016-09-15</th>\n",
              "      <td>NaN</td>\n",
              "      <td>NaN</td>\n",
              "      <td>NaN</td>\n",
              "      <td>0.28686</td>\n",
              "      <td>0.670794</td>\n",
              "      <td>%</td>\n",
              "      <td>0.08545</td>\n",
              "      <td>0.22914</td>\n",
              "      <td>0.00631</td>\n",
              "      <td>0.0</td>\n",
              "      <td>0.0</td>\n",
              "      <td>0.0</td>\n",
              "      <td>NaN</td>\n",
              "      <td>production</td>\n",
              "      <td>OP</td>\n",
              "    </tr>\n",
              "    <tr>\n",
              "      <th>2016-09-16</th>\n",
              "      <td>NaN</td>\n",
              "      <td>NaN</td>\n",
              "      <td>NaN</td>\n",
              "      <td>0.28604</td>\n",
              "      <td>0.664393</td>\n",
              "      <td>%</td>\n",
              "      <td>0.08544</td>\n",
              "      <td>0.22896</td>\n",
              "      <td>0.01181</td>\n",
              "      <td>0.0</td>\n",
              "      <td>0.0</td>\n",
              "      <td>0.0</td>\n",
              "      <td>NaN</td>\n",
              "      <td>production</td>\n",
              "      <td>OP</td>\n",
              "    </tr>\n",
              "    <tr>\n",
              "      <th>2016-09-17</th>\n",
              "      <td>NaN</td>\n",
              "      <td>NaN</td>\n",
              "      <td>NaN</td>\n",
              "      <td>0.27212</td>\n",
              "      <td>0.624660</td>\n",
              "      <td>%</td>\n",
              "      <td>0.07497</td>\n",
              "      <td>0.22846</td>\n",
              "      <td>0.02576</td>\n",
              "      <td>0.0</td>\n",
              "      <td>0.0</td>\n",
              "      <td>0.0</td>\n",
              "      <td>NaN</td>\n",
              "      <td>production</td>\n",
              "      <td>OP</td>\n",
              "    </tr>\n",
              "    <tr>\n",
              "      <th>2016-09-18</th>\n",
              "      <td>NaN</td>\n",
              "      <td>NaN</td>\n",
              "      <td>NaN</td>\n",
              "      <td>NaN</td>\n",
              "      <td>NaN</td>\n",
              "      <td>NaN</td>\n",
              "      <td>NaN</td>\n",
              "      <td>NaN</td>\n",
              "      <td>0.00000</td>\n",
              "      <td>NaN</td>\n",
              "      <td>NaN</td>\n",
              "      <td>NaN</td>\n",
              "      <td>0.0</td>\n",
              "      <td>injection</td>\n",
              "      <td>WI</td>\n",
              "    </tr>\n",
              "  </tbody>\n",
              "</table>\n",
              "<p>15634 rows × 15 columns</p>\n",
              "</div>"
            ],
            "text/plain": [
              "            AVG_DOWNHOLE_PRESSURE  ...  WELL_TYPE\n",
              "DATEPRD                            ...           \n",
              "2014-04-07                0.00000  ...         WI\n",
              "2014-04-08                    NaN  ...         OP\n",
              "2014-04-09                    NaN  ...         OP\n",
              "2014-04-10                    NaN  ...         OP\n",
              "2014-04-11              310.37614  ...         OP\n",
              "...                           ...  ...        ...\n",
              "2016-09-14                    NaN  ...         OP\n",
              "2016-09-15                    NaN  ...         OP\n",
              "2016-09-16                    NaN  ...         OP\n",
              "2016-09-17                    NaN  ...         OP\n",
              "2016-09-18                    NaN  ...         WI\n",
              "\n",
              "[15634 rows x 15 columns]"
            ]
          },
          "metadata": {
            "tags": []
          },
          "execution_count": 77
        }
      ]
    },
    {
      "cell_type": "markdown",
      "metadata": {
        "id": "1_GhggZHodsr",
        "colab_type": "text"
      },
      "source": [
        "# E17\n",
        "Groupby Pandas based on year and find the sum of all individual columns"
      ]
    },
    {
      "cell_type": "code",
      "metadata": {
        "id": "XCo6rHSEn9IY",
        "colab_type": "code",
        "colab": {
          "base_uri": "https://localhost:8080/",
          "height": 580
        },
        "outputId": "7cecd524-3c3c-47c4-ab74-5f80371aca91"
      },
      "source": [
        "production_data.groupby(pd.Grouper(freq='Y')).sum() #Grouper allows us to specify additional instruction to groupby by specifying the frequency(=year) of target selection"
      ],
      "execution_count": 84,
      "outputs": [
        {
          "output_type": "execute_result",
          "data": {
            "text/html": [
              "<div>\n",
              "<style scoped>\n",
              "    .dataframe tbody tr th:only-of-type {\n",
              "        vertical-align: middle;\n",
              "    }\n",
              "\n",
              "    .dataframe tbody tr th {\n",
              "        vertical-align: top;\n",
              "    }\n",
              "\n",
              "    .dataframe thead th {\n",
              "        text-align: right;\n",
              "    }\n",
              "</style>\n",
              "<table border=\"1\" class=\"dataframe\">\n",
              "  <thead>\n",
              "    <tr style=\"text-align: right;\">\n",
              "      <th></th>\n",
              "      <th>AVG_DOWNHOLE_PRESSURE</th>\n",
              "      <th>AVG_DOWNHOLE_TEMPERATURE</th>\n",
              "      <th>AVG_DP_TUBING</th>\n",
              "      <th>AVG_ANNULUS_PRESS</th>\n",
              "      <th>AVG_CHOKE_SIZE_P</th>\n",
              "      <th>AVG_WHP_P</th>\n",
              "      <th>AVG_WHT_P</th>\n",
              "      <th>DP_CHOKE_SIZE</th>\n",
              "      <th>BORE_OIL_VOL</th>\n",
              "      <th>BORE_GAS_VOL</th>\n",
              "      <th>BORE_WAT_VOL</th>\n",
              "      <th>BORE_WI_VOL</th>\n",
              "    </tr>\n",
              "    <tr>\n",
              "      <th>DATEPRD</th>\n",
              "      <th></th>\n",
              "      <th></th>\n",
              "      <th></th>\n",
              "      <th></th>\n",
              "      <th></th>\n",
              "      <th></th>\n",
              "      <th></th>\n",
              "      <th></th>\n",
              "      <th></th>\n",
              "      <th></th>\n",
              "      <th></th>\n",
              "      <th></th>\n",
              "    </tr>\n",
              "  </thead>\n",
              "  <tbody>\n",
              "    <tr>\n",
              "      <th>2007-12-31</th>\n",
              "      <td>0.000000</td>\n",
              "      <td>0.000000</td>\n",
              "      <td>0.000000</td>\n",
              "      <td>0.000000</td>\n",
              "      <td>0.000000</td>\n",
              "      <td>0.000000</td>\n",
              "      <td>0.000000</td>\n",
              "      <td>0.000000</td>\n",
              "      <td>0.00</td>\n",
              "      <td>0.000000e+00</td>\n",
              "      <td>0.00</td>\n",
              "      <td>0.000000e+00</td>\n",
              "    </tr>\n",
              "    <tr>\n",
              "      <th>2008-12-31</th>\n",
              "      <td>126332.310680</td>\n",
              "      <td>53145.321325</td>\n",
              "      <td>86636.465440</td>\n",
              "      <td>4025.115398</td>\n",
              "      <td>19763.257827</td>\n",
              "      <td>39695.845240</td>\n",
              "      <td>36453.959314</td>\n",
              "      <td>27182.395652</td>\n",
              "      <td>1764375.15</td>\n",
              "      <td>2.570386e+08</td>\n",
              "      <td>23508.94</td>\n",
              "      <td>2.417770e+06</td>\n",
              "    </tr>\n",
              "    <tr>\n",
              "      <th>2009-12-31</th>\n",
              "      <td>171879.218917</td>\n",
              "      <td>74141.591116</td>\n",
              "      <td>121894.132257</td>\n",
              "      <td>5621.077441</td>\n",
              "      <td>33456.352462</td>\n",
              "      <td>51945.817217</td>\n",
              "      <td>55808.568903</td>\n",
              "      <td>29335.704672</td>\n",
              "      <td>2684392.04</td>\n",
              "      <td>3.759820e+08</td>\n",
              "      <td>232103.74</td>\n",
              "      <td>4.392198e+06</td>\n",
              "    </tr>\n",
              "    <tr>\n",
              "      <th>2010-12-31</th>\n",
              "      <td>160502.923169</td>\n",
              "      <td>66601.974941</td>\n",
              "      <td>132274.102660</td>\n",
              "      <td>8348.346807</td>\n",
              "      <td>41160.007435</td>\n",
              "      <td>37669.600702</td>\n",
              "      <td>61336.154932</td>\n",
              "      <td>14810.973585</td>\n",
              "      <td>1689902.55</td>\n",
              "      <td>2.439484e+08</td>\n",
              "      <td>1887594.78</td>\n",
              "      <td>4.569394e+06</td>\n",
              "    </tr>\n",
              "    <tr>\n",
              "      <th>2011-12-31</th>\n",
              "      <td>83850.168072</td>\n",
              "      <td>34777.523747</td>\n",
              "      <td>83890.420230</td>\n",
              "      <td>6295.671376</td>\n",
              "      <td>43363.813540</td>\n",
              "      <td>31970.430852</td>\n",
              "      <td>54738.515777</td>\n",
              "      <td>12759.319522</td>\n",
              "      <td>847965.40</td>\n",
              "      <td>1.303202e+08</td>\n",
              "      <td>2190640.28</td>\n",
              "      <td>3.442446e+06</td>\n",
              "    </tr>\n",
              "    <tr>\n",
              "      <th>2012-12-31</th>\n",
              "      <td>78690.519824</td>\n",
              "      <td>34035.076791</td>\n",
              "      <td>77876.822481</td>\n",
              "      <td>6526.369311</td>\n",
              "      <td>51541.883105</td>\n",
              "      <td>23937.162317</td>\n",
              "      <td>54169.571480</td>\n",
              "      <td>5627.735295</td>\n",
              "      <td>574206.33</td>\n",
              "      <td>9.020864e+07</td>\n",
              "      <td>2109601.63</td>\n",
              "      <td>2.975214e+06</td>\n",
              "    </tr>\n",
              "    <tr>\n",
              "      <th>2013-12-31</th>\n",
              "      <td>127489.850406</td>\n",
              "      <td>51721.968030</td>\n",
              "      <td>114485.516138</td>\n",
              "      <td>15130.560085</td>\n",
              "      <td>61802.833284</td>\n",
              "      <td>36129.971488</td>\n",
              "      <td>69116.398131</td>\n",
              "      <td>12179.211410</td>\n",
              "      <td>558012.53</td>\n",
              "      <td>8.758778e+07</td>\n",
              "      <td>2576365.79</td>\n",
              "      <td>3.453761e+06</td>\n",
              "    </tr>\n",
              "    <tr>\n",
              "      <th>2014-12-31</th>\n",
              "      <td>317179.952517</td>\n",
              "      <td>140112.726769</td>\n",
              "      <td>268830.071114</td>\n",
              "      <td>27382.392622</td>\n",
              "      <td>78508.192935</td>\n",
              "      <td>78982.288089</td>\n",
              "      <td>103858.640858</td>\n",
              "      <td>32737.373560</td>\n",
              "      <td>743107.49</td>\n",
              "      <td>1.117919e+08</td>\n",
              "      <td>2716070.92</td>\n",
              "      <td>3.825493e+06</td>\n",
              "    </tr>\n",
              "    <tr>\n",
              "      <th>2015-12-31</th>\n",
              "      <td>349952.670812</td>\n",
              "      <td>151552.452285</td>\n",
              "      <td>299224.777084</td>\n",
              "      <td>22921.257036</td>\n",
              "      <td>84959.735169</td>\n",
              "      <td>79663.878891</td>\n",
              "      <td>109971.042472</td>\n",
              "      <td>30608.753230</td>\n",
              "      <td>861749.06</td>\n",
              "      <td>1.284238e+08</td>\n",
              "      <td>2009825.86</td>\n",
              "      <td>3.201627e+06</td>\n",
              "    </tr>\n",
              "    <tr>\n",
              "      <th>2016-12-31</th>\n",
              "      <td>216721.126936</td>\n",
              "      <td>86834.829308</td>\n",
              "      <td>198066.197563</td>\n",
              "      <td>20963.840959</td>\n",
              "      <td>77492.073819</td>\n",
              "      <td>35438.862473</td>\n",
              "      <td>73991.462309</td>\n",
              "      <td>10264.390093</td>\n",
              "      <td>313370.06</td>\n",
              "      <td>5.006913e+07</td>\n",
              "      <td>1572866.41</td>\n",
              "      <td>2.052229e+06</td>\n",
              "    </tr>\n",
              "  </tbody>\n",
              "</table>\n",
              "</div>"
            ],
            "text/plain": [
              "            AVG_DOWNHOLE_PRESSURE  ...   BORE_WI_VOL\n",
              "DATEPRD                            ...              \n",
              "2007-12-31               0.000000  ...  0.000000e+00\n",
              "2008-12-31          126332.310680  ...  2.417770e+06\n",
              "2009-12-31          171879.218917  ...  4.392198e+06\n",
              "2010-12-31          160502.923169  ...  4.569394e+06\n",
              "2011-12-31           83850.168072  ...  3.442446e+06\n",
              "2012-12-31           78690.519824  ...  2.975214e+06\n",
              "2013-12-31          127489.850406  ...  3.453761e+06\n",
              "2014-12-31          317179.952517  ...  3.825493e+06\n",
              "2015-12-31          349952.670812  ...  3.201627e+06\n",
              "2016-12-31          216721.126936  ...  2.052229e+06\n",
              "\n",
              "[10 rows x 12 columns]"
            ]
          },
          "metadata": {
            "tags": []
          },
          "execution_count": 84
        }
      ]
    },
    {
      "cell_type": "markdown",
      "metadata": {
        "id": "WhHv1F-Vtxfz",
        "colab_type": "text"
      },
      "source": [
        "METHOD 2:"
      ]
    },
    {
      "cell_type": "code",
      "metadata": {
        "id": "4tBswqU-qA_r",
        "colab_type": "code",
        "colab": {
          "base_uri": "https://localhost:8080/",
          "height": 379
        },
        "outputId": "55665c4e-3b71-48fb-ad72-3692e540b6af"
      },
      "source": [
        "production_data.groupby(lambda y: (y.year)).sum() #This retruns date index in the foem of year only"
      ],
      "execution_count": 89,
      "outputs": [
        {
          "output_type": "execute_result",
          "data": {
            "text/html": [
              "<div>\n",
              "<style scoped>\n",
              "    .dataframe tbody tr th:only-of-type {\n",
              "        vertical-align: middle;\n",
              "    }\n",
              "\n",
              "    .dataframe tbody tr th {\n",
              "        vertical-align: top;\n",
              "    }\n",
              "\n",
              "    .dataframe thead th {\n",
              "        text-align: right;\n",
              "    }\n",
              "</style>\n",
              "<table border=\"1\" class=\"dataframe\">\n",
              "  <thead>\n",
              "    <tr style=\"text-align: right;\">\n",
              "      <th></th>\n",
              "      <th>AVG_DOWNHOLE_PRESSURE</th>\n",
              "      <th>AVG_DOWNHOLE_TEMPERATURE</th>\n",
              "      <th>AVG_DP_TUBING</th>\n",
              "      <th>AVG_ANNULUS_PRESS</th>\n",
              "      <th>AVG_CHOKE_SIZE_P</th>\n",
              "      <th>AVG_WHP_P</th>\n",
              "      <th>AVG_WHT_P</th>\n",
              "      <th>DP_CHOKE_SIZE</th>\n",
              "      <th>BORE_OIL_VOL</th>\n",
              "      <th>BORE_GAS_VOL</th>\n",
              "      <th>BORE_WAT_VOL</th>\n",
              "      <th>BORE_WI_VOL</th>\n",
              "    </tr>\n",
              "  </thead>\n",
              "  <tbody>\n",
              "    <tr>\n",
              "      <th>2007</th>\n",
              "      <td>0.000000</td>\n",
              "      <td>0.000000</td>\n",
              "      <td>0.000000</td>\n",
              "      <td>0.000000</td>\n",
              "      <td>0.000000</td>\n",
              "      <td>0.000000</td>\n",
              "      <td>0.000000</td>\n",
              "      <td>0.000000</td>\n",
              "      <td>0.00</td>\n",
              "      <td>0.000000e+00</td>\n",
              "      <td>0.00</td>\n",
              "      <td>0.000000e+00</td>\n",
              "    </tr>\n",
              "    <tr>\n",
              "      <th>2008</th>\n",
              "      <td>126332.310680</td>\n",
              "      <td>53145.321325</td>\n",
              "      <td>86636.465440</td>\n",
              "      <td>4025.115398</td>\n",
              "      <td>19763.257827</td>\n",
              "      <td>39695.845240</td>\n",
              "      <td>36453.959314</td>\n",
              "      <td>27182.395652</td>\n",
              "      <td>1764375.15</td>\n",
              "      <td>2.570386e+08</td>\n",
              "      <td>23508.94</td>\n",
              "      <td>2.417770e+06</td>\n",
              "    </tr>\n",
              "    <tr>\n",
              "      <th>2009</th>\n",
              "      <td>171879.218917</td>\n",
              "      <td>74141.591116</td>\n",
              "      <td>121894.132257</td>\n",
              "      <td>5621.077441</td>\n",
              "      <td>33456.352462</td>\n",
              "      <td>51945.817217</td>\n",
              "      <td>55808.568903</td>\n",
              "      <td>29335.704672</td>\n",
              "      <td>2684392.04</td>\n",
              "      <td>3.759820e+08</td>\n",
              "      <td>232103.74</td>\n",
              "      <td>4.392198e+06</td>\n",
              "    </tr>\n",
              "    <tr>\n",
              "      <th>2010</th>\n",
              "      <td>160502.923169</td>\n",
              "      <td>66601.974941</td>\n",
              "      <td>132274.102660</td>\n",
              "      <td>8348.346807</td>\n",
              "      <td>41160.007435</td>\n",
              "      <td>37669.600702</td>\n",
              "      <td>61336.154932</td>\n",
              "      <td>14810.973585</td>\n",
              "      <td>1689902.55</td>\n",
              "      <td>2.439484e+08</td>\n",
              "      <td>1887594.78</td>\n",
              "      <td>4.569394e+06</td>\n",
              "    </tr>\n",
              "    <tr>\n",
              "      <th>2011</th>\n",
              "      <td>83850.168072</td>\n",
              "      <td>34777.523747</td>\n",
              "      <td>83890.420230</td>\n",
              "      <td>6295.671376</td>\n",
              "      <td>43363.813540</td>\n",
              "      <td>31970.430852</td>\n",
              "      <td>54738.515777</td>\n",
              "      <td>12759.319522</td>\n",
              "      <td>847965.40</td>\n",
              "      <td>1.303202e+08</td>\n",
              "      <td>2190640.28</td>\n",
              "      <td>3.442446e+06</td>\n",
              "    </tr>\n",
              "    <tr>\n",
              "      <th>2012</th>\n",
              "      <td>78690.519824</td>\n",
              "      <td>34035.076791</td>\n",
              "      <td>77876.822481</td>\n",
              "      <td>6526.369311</td>\n",
              "      <td>51541.883105</td>\n",
              "      <td>23937.162317</td>\n",
              "      <td>54169.571480</td>\n",
              "      <td>5627.735295</td>\n",
              "      <td>574206.33</td>\n",
              "      <td>9.020864e+07</td>\n",
              "      <td>2109601.63</td>\n",
              "      <td>2.975214e+06</td>\n",
              "    </tr>\n",
              "    <tr>\n",
              "      <th>2013</th>\n",
              "      <td>127489.850406</td>\n",
              "      <td>51721.968030</td>\n",
              "      <td>114485.516138</td>\n",
              "      <td>15130.560085</td>\n",
              "      <td>61802.833284</td>\n",
              "      <td>36129.971488</td>\n",
              "      <td>69116.398131</td>\n",
              "      <td>12179.211410</td>\n",
              "      <td>558012.53</td>\n",
              "      <td>8.758778e+07</td>\n",
              "      <td>2576365.79</td>\n",
              "      <td>3.453761e+06</td>\n",
              "    </tr>\n",
              "    <tr>\n",
              "      <th>2014</th>\n",
              "      <td>317179.952517</td>\n",
              "      <td>140112.726769</td>\n",
              "      <td>268830.071114</td>\n",
              "      <td>27382.392622</td>\n",
              "      <td>78508.192935</td>\n",
              "      <td>78982.288089</td>\n",
              "      <td>103858.640858</td>\n",
              "      <td>32737.373560</td>\n",
              "      <td>743107.49</td>\n",
              "      <td>1.117919e+08</td>\n",
              "      <td>2716070.92</td>\n",
              "      <td>3.825493e+06</td>\n",
              "    </tr>\n",
              "    <tr>\n",
              "      <th>2015</th>\n",
              "      <td>349952.670812</td>\n",
              "      <td>151552.452285</td>\n",
              "      <td>299224.777084</td>\n",
              "      <td>22921.257036</td>\n",
              "      <td>84959.735169</td>\n",
              "      <td>79663.878891</td>\n",
              "      <td>109971.042472</td>\n",
              "      <td>30608.753230</td>\n",
              "      <td>861749.06</td>\n",
              "      <td>1.284238e+08</td>\n",
              "      <td>2009825.86</td>\n",
              "      <td>3.201627e+06</td>\n",
              "    </tr>\n",
              "    <tr>\n",
              "      <th>2016</th>\n",
              "      <td>216721.126936</td>\n",
              "      <td>86834.829308</td>\n",
              "      <td>198066.197563</td>\n",
              "      <td>20963.840959</td>\n",
              "      <td>77492.073819</td>\n",
              "      <td>35438.862473</td>\n",
              "      <td>73991.462309</td>\n",
              "      <td>10264.390093</td>\n",
              "      <td>313370.06</td>\n",
              "      <td>5.006913e+07</td>\n",
              "      <td>1572866.41</td>\n",
              "      <td>2.052229e+06</td>\n",
              "    </tr>\n",
              "  </tbody>\n",
              "</table>\n",
              "</div>"
            ],
            "text/plain": [
              "      AVG_DOWNHOLE_PRESSURE  ...   BORE_WI_VOL\n",
              "2007               0.000000  ...  0.000000e+00\n",
              "2008          126332.310680  ...  2.417770e+06\n",
              "2009          171879.218917  ...  4.392198e+06\n",
              "2010          160502.923169  ...  4.569394e+06\n",
              "2011           83850.168072  ...  3.442446e+06\n",
              "2012           78690.519824  ...  2.975214e+06\n",
              "2013          127489.850406  ...  3.453761e+06\n",
              "2014          317179.952517  ...  3.825493e+06\n",
              "2015          349952.670812  ...  3.201627e+06\n",
              "2016          216721.126936  ...  2.052229e+06\n",
              "\n",
              "[10 rows x 12 columns]"
            ]
          },
          "metadata": {
            "tags": []
          },
          "execution_count": 89
        }
      ]
    },
    {
      "cell_type": "code",
      "metadata": {
        "id": "vZY9ftIHs80S",
        "colab_type": "code",
        "colab": {}
      },
      "source": [
        ""
      ],
      "execution_count": null,
      "outputs": []
    }
  ]
}