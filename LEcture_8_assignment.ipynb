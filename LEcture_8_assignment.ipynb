{
  "nbformat": 4,
  "nbformat_minor": 0,
  "metadata": {
    "colab": {
      "name": "LEcture 8 assignment.ipynb",
      "provenance": [],
      "collapsed_sections": [],
      "authorship_tag": "ABX9TyOzbnxZgL6PM08cC5XWNSGC",
      "include_colab_link": true
    },
    "kernelspec": {
      "name": "python3",
      "display_name": "Python 3"
    }
  },
  "cells": [
    {
      "cell_type": "markdown",
      "metadata": {
        "id": "view-in-github",
        "colab_type": "text"
      },
      "source": [
        "<a href=\"https://colab.research.google.com/github/Shrinjoymaiti/pycourse/blob/master/LEcture_8_assignment.ipynb\" target=\"_parent\"><img src=\"https://colab.research.google.com/assets/colab-badge.svg\" alt=\"Open In Colab\"/></a>"
      ]
    },
    {
      "cell_type": "markdown",
      "metadata": {
        "id": "19JhYSQe4537"
      },
      "source": [
        "#Task\n",
        "Fit the Arps Equation to one of the Volve fields' well given the production data of Oil & Gas.\n",
        "\n",
        "Also visualize the Production Rates along with fitted curve."
      ]
    },
    {
      "cell_type": "code",
      "metadata": {
        "id": "5coqzmGg4-Ij"
      },
      "source": [
        "import pandas as pd\n",
        "import matplotlib.pyplot as plt\n",
        "import numpy as np\n",
        "!pip install gdown"
      ],
      "execution_count": null,
      "outputs": []
    },
    {
      "cell_type": "code",
      "metadata": {
        "id": "Bi0ues2C5KJX",
        "outputId": "60deab18-84b5-4629-e202-b6acd50b5e33",
        "colab": {
          "base_uri": "https://localhost:8080/"
        }
      },
      "source": [
        "! gdown -O production_data_volve.xlsx https://drive.google.com/uc?id=1zRPuUt9MnpVvZJ8p6UkcC6oe5sZu_uIP"
      ],
      "execution_count": 2,
      "outputs": [
        {
          "output_type": "stream",
          "text": [
            "Downloading...\n",
            "From: https://drive.google.com/uc?id=1zRPuUt9MnpVvZJ8p6UkcC6oe5sZu_uIP\n",
            "To: /content/production_data_volve.xlsx\n",
            "\r0.00B [00:00, ?B/s]\r2.34MB [00:00, 75.0MB/s]\n"
          ],
          "name": "stdout"
        }
      ]
    },
    {
      "cell_type": "code",
      "metadata": {
        "id": "OK93cl2J5P2m",
        "outputId": "0a3d6f1b-8ff8-4a34-de33-fd5550ab486a",
        "colab": {
          "base_uri": "https://localhost:8080/",
          "height": 309
        }
      },
      "source": [
        "prod_data=pd.read_excel('/content/production_data_volve.xlsx')\n",
        "prod_data.head()"
      ],
      "execution_count": 3,
      "outputs": [
        {
          "output_type": "execute_result",
          "data": {
            "text/html": [
              "<div>\n",
              "<style scoped>\n",
              "    .dataframe tbody tr th:only-of-type {\n",
              "        vertical-align: middle;\n",
              "    }\n",
              "\n",
              "    .dataframe tbody tr th {\n",
              "        vertical-align: top;\n",
              "    }\n",
              "\n",
              "    .dataframe thead th {\n",
              "        text-align: right;\n",
              "    }\n",
              "</style>\n",
              "<table border=\"1\" class=\"dataframe\">\n",
              "  <thead>\n",
              "    <tr style=\"text-align: right;\">\n",
              "      <th></th>\n",
              "      <th>DATEPRD</th>\n",
              "      <th>WELL_BORE_CODE</th>\n",
              "      <th>NPD_WELL_BORE_CODE</th>\n",
              "      <th>NPD_WELL_BORE_NAME</th>\n",
              "      <th>NPD_FIELD_CODE</th>\n",
              "      <th>NPD_FIELD_NAME</th>\n",
              "      <th>NPD_FACILITY_CODE</th>\n",
              "      <th>NPD_FACILITY_NAME</th>\n",
              "      <th>ON_STREAM_HRS</th>\n",
              "      <th>AVG_DOWNHOLE_PRESSURE</th>\n",
              "      <th>AVG_DOWNHOLE_TEMPERATURE</th>\n",
              "      <th>AVG_DP_TUBING</th>\n",
              "      <th>AVG_ANNULUS_PRESS</th>\n",
              "      <th>AVG_CHOKE_SIZE_P</th>\n",
              "      <th>AVG_CHOKE_UOM</th>\n",
              "      <th>AVG_WHP_P</th>\n",
              "      <th>AVG_WHT_P</th>\n",
              "      <th>DP_CHOKE_SIZE</th>\n",
              "      <th>BORE_OIL_VOL</th>\n",
              "      <th>BORE_GAS_VOL</th>\n",
              "      <th>BORE_WAT_VOL</th>\n",
              "      <th>BORE_WI_VOL</th>\n",
              "      <th>FLOW_KIND</th>\n",
              "      <th>WELL_TYPE</th>\n",
              "    </tr>\n",
              "  </thead>\n",
              "  <tbody>\n",
              "    <tr>\n",
              "      <th>0</th>\n",
              "      <td>2014-04-07</td>\n",
              "      <td>NO 15/9-F-1 C</td>\n",
              "      <td>7405</td>\n",
              "      <td>15/9-F-1 C</td>\n",
              "      <td>3420717</td>\n",
              "      <td>VOLVE</td>\n",
              "      <td>369304</td>\n",
              "      <td>MÆRSK INSPIRER</td>\n",
              "      <td>0.0</td>\n",
              "      <td>0.00000</td>\n",
              "      <td>0.00000</td>\n",
              "      <td>0.00000</td>\n",
              "      <td>0.0</td>\n",
              "      <td>0.000000</td>\n",
              "      <td>%</td>\n",
              "      <td>0.00000</td>\n",
              "      <td>0.00000</td>\n",
              "      <td>0.00000</td>\n",
              "      <td>0.0</td>\n",
              "      <td>0.0</td>\n",
              "      <td>0.0</td>\n",
              "      <td>NaN</td>\n",
              "      <td>production</td>\n",
              "      <td>WI</td>\n",
              "    </tr>\n",
              "    <tr>\n",
              "      <th>1</th>\n",
              "      <td>2014-04-08</td>\n",
              "      <td>NO 15/9-F-1 C</td>\n",
              "      <td>7405</td>\n",
              "      <td>15/9-F-1 C</td>\n",
              "      <td>3420717</td>\n",
              "      <td>VOLVE</td>\n",
              "      <td>369304</td>\n",
              "      <td>MÆRSK INSPIRER</td>\n",
              "      <td>0.0</td>\n",
              "      <td>NaN</td>\n",
              "      <td>NaN</td>\n",
              "      <td>NaN</td>\n",
              "      <td>0.0</td>\n",
              "      <td>1.003059</td>\n",
              "      <td>%</td>\n",
              "      <td>0.00000</td>\n",
              "      <td>0.00000</td>\n",
              "      <td>0.00000</td>\n",
              "      <td>0.0</td>\n",
              "      <td>0.0</td>\n",
              "      <td>0.0</td>\n",
              "      <td>NaN</td>\n",
              "      <td>production</td>\n",
              "      <td>OP</td>\n",
              "    </tr>\n",
              "    <tr>\n",
              "      <th>2</th>\n",
              "      <td>2014-04-09</td>\n",
              "      <td>NO 15/9-F-1 C</td>\n",
              "      <td>7405</td>\n",
              "      <td>15/9-F-1 C</td>\n",
              "      <td>3420717</td>\n",
              "      <td>VOLVE</td>\n",
              "      <td>369304</td>\n",
              "      <td>MÆRSK INSPIRER</td>\n",
              "      <td>0.0</td>\n",
              "      <td>NaN</td>\n",
              "      <td>NaN</td>\n",
              "      <td>NaN</td>\n",
              "      <td>0.0</td>\n",
              "      <td>0.979008</td>\n",
              "      <td>%</td>\n",
              "      <td>0.00000</td>\n",
              "      <td>0.00000</td>\n",
              "      <td>0.00000</td>\n",
              "      <td>0.0</td>\n",
              "      <td>0.0</td>\n",
              "      <td>0.0</td>\n",
              "      <td>NaN</td>\n",
              "      <td>production</td>\n",
              "      <td>OP</td>\n",
              "    </tr>\n",
              "    <tr>\n",
              "      <th>3</th>\n",
              "      <td>2014-04-10</td>\n",
              "      <td>NO 15/9-F-1 C</td>\n",
              "      <td>7405</td>\n",
              "      <td>15/9-F-1 C</td>\n",
              "      <td>3420717</td>\n",
              "      <td>VOLVE</td>\n",
              "      <td>369304</td>\n",
              "      <td>MÆRSK INSPIRER</td>\n",
              "      <td>0.0</td>\n",
              "      <td>NaN</td>\n",
              "      <td>NaN</td>\n",
              "      <td>NaN</td>\n",
              "      <td>0.0</td>\n",
              "      <td>0.545759</td>\n",
              "      <td>%</td>\n",
              "      <td>0.00000</td>\n",
              "      <td>0.00000</td>\n",
              "      <td>0.00000</td>\n",
              "      <td>0.0</td>\n",
              "      <td>0.0</td>\n",
              "      <td>0.0</td>\n",
              "      <td>NaN</td>\n",
              "      <td>production</td>\n",
              "      <td>OP</td>\n",
              "    </tr>\n",
              "    <tr>\n",
              "      <th>4</th>\n",
              "      <td>2014-04-11</td>\n",
              "      <td>NO 15/9-F-1 C</td>\n",
              "      <td>7405</td>\n",
              "      <td>15/9-F-1 C</td>\n",
              "      <td>3420717</td>\n",
              "      <td>VOLVE</td>\n",
              "      <td>369304</td>\n",
              "      <td>MÆRSK INSPIRER</td>\n",
              "      <td>0.0</td>\n",
              "      <td>310.37614</td>\n",
              "      <td>96.87589</td>\n",
              "      <td>277.27826</td>\n",
              "      <td>0.0</td>\n",
              "      <td>1.215987</td>\n",
              "      <td>%</td>\n",
              "      <td>33.09788</td>\n",
              "      <td>10.47992</td>\n",
              "      <td>33.07195</td>\n",
              "      <td>0.0</td>\n",
              "      <td>0.0</td>\n",
              "      <td>0.0</td>\n",
              "      <td>NaN</td>\n",
              "      <td>production</td>\n",
              "      <td>OP</td>\n",
              "    </tr>\n",
              "  </tbody>\n",
              "</table>\n",
              "</div>"
            ],
            "text/plain": [
              "     DATEPRD WELL_BORE_CODE  ...   FLOW_KIND WELL_TYPE\n",
              "0 2014-04-07  NO 15/9-F-1 C  ...  production        WI\n",
              "1 2014-04-08  NO 15/9-F-1 C  ...  production        OP\n",
              "2 2014-04-09  NO 15/9-F-1 C  ...  production        OP\n",
              "3 2014-04-10  NO 15/9-F-1 C  ...  production        OP\n",
              "4 2014-04-11  NO 15/9-F-1 C  ...  production        OP\n",
              "\n",
              "[5 rows x 24 columns]"
            ]
          },
          "metadata": {
            "tags": []
          },
          "execution_count": 3
        }
      ]
    },
    {
      "cell_type": "code",
      "metadata": {
        "id": "Ko_m0gVL5fD1",
        "outputId": "358c1cfe-fc1f-4a45-a2b2-50e16c288797",
        "colab": {
          "base_uri": "https://localhost:8080/"
        }
      },
      "source": [
        "prod_data['WELL_BORE_CODE'].unique()"
      ],
      "execution_count": 4,
      "outputs": [
        {
          "output_type": "execute_result",
          "data": {
            "text/plain": [
              "array(['NO 15/9-F-1 C', 'NO 15/9-F-11 H', 'NO 15/9-F-12 H',\n",
              "       'NO 15/9-F-14 H', 'NO 15/9-F-15 D', 'NO 15/9-F-4 AH',\n",
              "       'NO 15/9-F-5 AH'], dtype=object)"
            ]
          },
          "metadata": {
            "tags": []
          },
          "execution_count": 4
        }
      ]
    },
    {
      "cell_type": "code",
      "metadata": {
        "id": "ul8OCxQc5nQl",
        "outputId": "6261ac2a-6ad8-4b42-af83-1de4413ac015",
        "colab": {
          "base_uri": "https://localhost:8080/",
          "height": 309
        }
      },
      "source": [
        "df=prod_data.loc[prod_data['WELL_BORE_CODE']=='NO 15/9-F-15 D',:]\n",
        "df.head()"
      ],
      "execution_count": 17,
      "outputs": [
        {
          "output_type": "execute_result",
          "data": {
            "text/html": [
              "<div>\n",
              "<style scoped>\n",
              "    .dataframe tbody tr th:only-of-type {\n",
              "        vertical-align: middle;\n",
              "    }\n",
              "\n",
              "    .dataframe tbody tr th {\n",
              "        vertical-align: top;\n",
              "    }\n",
              "\n",
              "    .dataframe thead th {\n",
              "        text-align: right;\n",
              "    }\n",
              "</style>\n",
              "<table border=\"1\" class=\"dataframe\">\n",
              "  <thead>\n",
              "    <tr style=\"text-align: right;\">\n",
              "      <th></th>\n",
              "      <th>DATEPRD</th>\n",
              "      <th>WELL_BORE_CODE</th>\n",
              "      <th>NPD_WELL_BORE_CODE</th>\n",
              "      <th>NPD_WELL_BORE_NAME</th>\n",
              "      <th>NPD_FIELD_CODE</th>\n",
              "      <th>NPD_FIELD_NAME</th>\n",
              "      <th>NPD_FACILITY_CODE</th>\n",
              "      <th>NPD_FACILITY_NAME</th>\n",
              "      <th>ON_STREAM_HRS</th>\n",
              "      <th>AVG_DOWNHOLE_PRESSURE</th>\n",
              "      <th>AVG_DOWNHOLE_TEMPERATURE</th>\n",
              "      <th>AVG_DP_TUBING</th>\n",
              "      <th>AVG_ANNULUS_PRESS</th>\n",
              "      <th>AVG_CHOKE_SIZE_P</th>\n",
              "      <th>AVG_CHOKE_UOM</th>\n",
              "      <th>AVG_WHP_P</th>\n",
              "      <th>AVG_WHT_P</th>\n",
              "      <th>DP_CHOKE_SIZE</th>\n",
              "      <th>BORE_OIL_VOL</th>\n",
              "      <th>BORE_GAS_VOL</th>\n",
              "      <th>BORE_WAT_VOL</th>\n",
              "      <th>BORE_WI_VOL</th>\n",
              "      <th>FLOW_KIND</th>\n",
              "      <th>WELL_TYPE</th>\n",
              "    </tr>\n",
              "  </thead>\n",
              "  <tbody>\n",
              "    <tr>\n",
              "      <th>8023</th>\n",
              "      <td>2014-01-12</td>\n",
              "      <td>NO 15/9-F-15 D</td>\n",
              "      <td>7289</td>\n",
              "      <td>15/9-F-15 D</td>\n",
              "      <td>3420717</td>\n",
              "      <td>VOLVE</td>\n",
              "      <td>369304</td>\n",
              "      <td>MÆRSK INSPIRER</td>\n",
              "      <td>0.0</td>\n",
              "      <td>303.747100</td>\n",
              "      <td>98.701230</td>\n",
              "      <td>283.534860</td>\n",
              "      <td>0.00000</td>\n",
              "      <td>1.181753</td>\n",
              "      <td>%</td>\n",
              "      <td>20.212240</td>\n",
              "      <td>8.395740</td>\n",
              "      <td>20.146020</td>\n",
              "      <td>0.00</td>\n",
              "      <td>0.0</td>\n",
              "      <td>0.0</td>\n",
              "      <td>NaN</td>\n",
              "      <td>production</td>\n",
              "      <td>OP</td>\n",
              "    </tr>\n",
              "    <tr>\n",
              "      <th>8024</th>\n",
              "      <td>2014-01-13</td>\n",
              "      <td>NO 15/9-F-15 D</td>\n",
              "      <td>7289</td>\n",
              "      <td>15/9-F-15 D</td>\n",
              "      <td>3420717</td>\n",
              "      <td>VOLVE</td>\n",
              "      <td>369304</td>\n",
              "      <td>MÆRSK INSPIRER</td>\n",
              "      <td>0.0</td>\n",
              "      <td>303.955410</td>\n",
              "      <td>98.733830</td>\n",
              "      <td>280.695050</td>\n",
              "      <td>0.00000</td>\n",
              "      <td>1.197065</td>\n",
              "      <td>%</td>\n",
              "      <td>23.260360</td>\n",
              "      <td>6.327640</td>\n",
              "      <td>23.189020</td>\n",
              "      <td>0.00</td>\n",
              "      <td>0.0</td>\n",
              "      <td>0.0</td>\n",
              "      <td>NaN</td>\n",
              "      <td>production</td>\n",
              "      <td>OP</td>\n",
              "    </tr>\n",
              "    <tr>\n",
              "      <th>8025</th>\n",
              "      <td>2014-01-14</td>\n",
              "      <td>NO 15/9-F-15 D</td>\n",
              "      <td>7289</td>\n",
              "      <td>15/9-F-15 D</td>\n",
              "      <td>3420717</td>\n",
              "      <td>VOLVE</td>\n",
              "      <td>369304</td>\n",
              "      <td>MÆRSK INSPIRER</td>\n",
              "      <td>0.0</td>\n",
              "      <td>303.377050</td>\n",
              "      <td>98.791770</td>\n",
              "      <td>282.029910</td>\n",
              "      <td>0.00000</td>\n",
              "      <td>1.125136</td>\n",
              "      <td>%</td>\n",
              "      <td>21.347140</td>\n",
              "      <td>6.829930</td>\n",
              "      <td>21.274680</td>\n",
              "      <td>0.00</td>\n",
              "      <td>0.0</td>\n",
              "      <td>0.0</td>\n",
              "      <td>NaN</td>\n",
              "      <td>production</td>\n",
              "      <td>OP</td>\n",
              "    </tr>\n",
              "    <tr>\n",
              "      <th>8026</th>\n",
              "      <td>2014-01-15</td>\n",
              "      <td>NO 15/9-F-15 D</td>\n",
              "      <td>7289</td>\n",
              "      <td>15/9-F-15 D</td>\n",
              "      <td>3420717</td>\n",
              "      <td>VOLVE</td>\n",
              "      <td>369304</td>\n",
              "      <td>MÆRSK INSPIRER</td>\n",
              "      <td>0.0</td>\n",
              "      <td>304.405040</td>\n",
              "      <td>98.102420</td>\n",
              "      <td>272.529550</td>\n",
              "      <td>0.58579</td>\n",
              "      <td>2.610212</td>\n",
              "      <td>%</td>\n",
              "      <td>31.875490</td>\n",
              "      <td>7.686810</td>\n",
              "      <td>27.094350</td>\n",
              "      <td>0.00</td>\n",
              "      <td>0.0</td>\n",
              "      <td>0.0</td>\n",
              "      <td>NaN</td>\n",
              "      <td>production</td>\n",
              "      <td>OP</td>\n",
              "    </tr>\n",
              "    <tr>\n",
              "      <th>8027</th>\n",
              "      <td>2014-01-16</td>\n",
              "      <td>NO 15/9-F-15 D</td>\n",
              "      <td>7289</td>\n",
              "      <td>15/9-F-15 D</td>\n",
              "      <td>3420717</td>\n",
              "      <td>VOLVE</td>\n",
              "      <td>369304</td>\n",
              "      <td>MÆRSK INSPIRER</td>\n",
              "      <td>24.0</td>\n",
              "      <td>241.770858</td>\n",
              "      <td>104.898944</td>\n",
              "      <td>185.900111</td>\n",
              "      <td>19.05713</td>\n",
              "      <td>8.660590</td>\n",
              "      <td>%</td>\n",
              "      <td>55.870746</td>\n",
              "      <td>16.900088</td>\n",
              "      <td>27.966259</td>\n",
              "      <td>351.05</td>\n",
              "      <td>52394.9</td>\n",
              "      <td>0.0</td>\n",
              "      <td>NaN</td>\n",
              "      <td>production</td>\n",
              "      <td>OP</td>\n",
              "    </tr>\n",
              "  </tbody>\n",
              "</table>\n",
              "</div>"
            ],
            "text/plain": [
              "        DATEPRD  WELL_BORE_CODE  ...   FLOW_KIND WELL_TYPE\n",
              "8023 2014-01-12  NO 15/9-F-15 D  ...  production        OP\n",
              "8024 2014-01-13  NO 15/9-F-15 D  ...  production        OP\n",
              "8025 2014-01-14  NO 15/9-F-15 D  ...  production        OP\n",
              "8026 2014-01-15  NO 15/9-F-15 D  ...  production        OP\n",
              "8027 2014-01-16  NO 15/9-F-15 D  ...  production        OP\n",
              "\n",
              "[5 rows x 24 columns]"
            ]
          },
          "metadata": {
            "tags": []
          },
          "execution_count": 17
        }
      ]
    },
    {
      "cell_type": "code",
      "metadata": {
        "id": "9egzvkJV5_JV",
        "outputId": "ef405b1a-dbc0-4153-d8aa-2b3ca8913d4a",
        "colab": {
          "base_uri": "https://localhost:8080/"
        }
      },
      "source": [
        "#Removing the peak oil vol and taking data after the start date\n",
        "peak=df.loc[df['BORE_OIL_VOL']==df['BORE_OIL_VOL'].max(),:]\n",
        "start_date=df.loc[df['BORE_OIL_VOL']==df['BORE_OIL_VOL'].max(),:]['DATEPRD'].min()\n",
        "df1=df.loc[df['DATEPRD']>=start_date,:]\n",
        "df1['Days']=(df1['DATEPRD']-start_date).dt.days\n",
        "df1['Days']"
      ],
      "execution_count": 24,
      "outputs": [
        {
          "output_type": "stream",
          "text": [
            "/usr/local/lib/python3.6/dist-packages/ipykernel_launcher.py:5: SettingWithCopyWarning: \n",
            "A value is trying to be set on a copy of a slice from a DataFrame.\n",
            "Try using .loc[row_indexer,col_indexer] = value instead\n",
            "\n",
            "See the caveats in the documentation: https://pandas.pydata.org/pandas-docs/stable/user_guide/indexing.html#returning-a-view-versus-a-copy\n",
            "  \"\"\"\n"
          ],
          "name": "stderr"
        },
        {
          "output_type": "execute_result",
          "data": {
            "text/plain": [
              "8029      0\n",
              "8030      1\n",
              "8031      2\n",
              "8032      3\n",
              "8033      4\n",
              "       ... \n",
              "8996    969\n",
              "8997    970\n",
              "8998    971\n",
              "8999    972\n",
              "9000    973\n",
              "Name: Days, Length: 972, dtype: int64"
            ]
          },
          "metadata": {
            "tags": []
          },
          "execution_count": 24
        }
      ]
    },
    {
      "cell_type": "code",
      "metadata": {
        "id": "kDLBZv5H_5UP"
      },
      "source": [
        "#DEfining arps fumction\n",
        "def arps(t,qi,di,b):\n",
        "  if b==0:\n",
        "    return qi*np.exp(-di*t)\n",
        "  else:\n",
        "    return qi/((1.0+b*di*t)**(1.0/b))"
      ],
      "execution_count": 31,
      "outputs": []
    },
    {
      "cell_type": "code",
      "metadata": {
        "id": "-N0FAfcT8U6H"
      },
      "source": [
        "#Normalized Time and Date\n",
        "t=df1['Days']/max(df1['Days'])\n",
        "q=df1['BORE_OIL_VOL']/max(df1['BORE_OIL_VOL'])"
      ],
      "execution_count": 36,
      "outputs": []
    },
    {
      "cell_type": "code",
      "metadata": {
        "id": "FUhYqQ51_Z5I"
      },
      "source": [
        "#Importing and Applying Curve Fitiing\n",
        "from scipy.optimize import curve_fit\n",
        "popt, pcov=curve_fit(arps,t,q)\n",
        "qi,di,b=popt\n",
        "\n",
        "#De-normalize qi and di\n",
        "qi=qi*max(df1['BORE_OIL_VOL'])\n",
        "di=di/max(df1['Days'])\n"
      ],
      "execution_count": 49,
      "outputs": []
    },
    {
      "cell_type": "code",
      "metadata": {
        "id": "SMVna1WeC2BJ",
        "outputId": "2d118c3f-4af7-45c2-f66c-5025e02c8916",
        "colab": {
          "base_uri": "https://localhost:8080/"
        }
      },
      "source": [
        "print('Intial Production Rate: ',np.round(qi,3),'B/D')\n",
        "print('Intial Decline Rate: ',np.round(di,3),'B/D')\n",
        "print('Decline constant: ',np.round(b,3))"
      ],
      "execution_count": 50,
      "outputs": [
        {
          "output_type": "stream",
          "text": [
            "Intial Production Rate:  464.599 B/D\n",
            "Intial Decline Rate:  0.036 B/D\n",
            "Decline constant:  3.271\n"
          ],
          "name": "stdout"
        }
      ]
    },
    {
      "cell_type": "code",
      "metadata": {
        "id": "470118vvBMlk"
      },
      "source": [
        "#Forecast upto n days\n",
        "n=1200\n",
        "t_forecast=np.arange(n)\n",
        "q_forecast=arps(t_forecast,qi,di,b)"
      ],
      "execution_count": 61,
      "outputs": []
    },
    {
      "cell_type": "code",
      "metadata": {
        "id": "5cjkHnQmCobL",
        "outputId": "8c235491-913c-4aeb-a10a-94856ea6f2e3",
        "colab": {
          "base_uri": "https://localhost:8080/",
          "height": 350
        }
      },
      "source": [
        "#Plotting Actual vs Forecasted\n",
        "plt.figure(figsize=(15,5))\n",
        "plt.scatter(df1['Days'],df1['BORE_OIL_VOL'],color='orange',label='Actual Production Data')\n",
        "plt.plot(t_forecast,q_forecast,label='Forecasted PRoduction Data')\n",
        "plt.title('Production Rate from DCA')\n",
        "plt.xlabel('Days')\n",
        "plt.ylabel('Rate')\n",
        "plt.xlim(xmin=0)\n",
        "plt.ylim(ymin=0)\n",
        "plt.legend()\n",
        "plt.show()"
      ],
      "execution_count": 65,
      "outputs": [
        {
          "output_type": "display_data",
          "data": {
            "image/png": "[encoded data removed]",
            "text/plain": [
              "<Figure size 1080x360 with 1 Axes>"
            ]
          },
          "metadata": {
            "tags": [],
            "needs_background": "light"
          }
        }
      ]
    },
    {
      "cell_type": "code",
      "metadata": {
        "id": "foWDgwTdEVY-"
      },
      "source": [
        ""
      ],
      "execution_count": null,
      "outputs": []
    }
  ]
}